{
 "cells": [
  {
   "cell_type": "markdown",
   "metadata": {
    "colab_type": "text",
    "id": "KWuNFSk8bPHA"
   },
   "source": [
    "# Imports and Setups"
   ]
  },
  {
   "cell_type": "code",
   "execution_count": 0,
   "metadata": {
    "colab": {
     "base_uri": "https://localhost:8080/",
     "height": 187
    },
    "colab_type": "code",
    "executionInfo": {
     "elapsed": 1440,
     "status": "ok",
     "timestamp": 1559848463964,
     "user": {
      "displayName": "Angel Felipe Magnossao de Paula",
      "photoUrl": "",
      "userId": "13628264624700653838"
     },
     "user_tz": 180
    },
    "id": "qY6m8_IMNfAU",
    "outputId": "eaf17baf-7d09-4651-d18b-596eb8d21ac6"
   },
   "outputs": [
    {
     "name": "stderr",
     "output_type": "stream",
     "text": [
      "Using TensorFlow backend.\n",
      "[nltk_data] Downloading package stopwords to\n",
      "[nltk_data]     /home/xicocaio/nltk_data...\n",
      "[nltk_data]   Package stopwords is already up-to-date!\n",
      "[nltk_data] Downloading package punkt to /home/xicocaio/nltk_data...\n",
      "[nltk_data]   Package punkt is already up-to-date!\n",
      "[nltk_data] Downloading package vader_lexicon to\n",
      "[nltk_data]     /home/xicocaio/nltk_data...\n",
      "[nltk_data]   Package vader_lexicon is already up-to-date!\n"
     ]
    },
    {
     "data": {
      "text/plain": [
       "True"
      ]
     },
     "execution_count": 1,
     "metadata": {
      "tags": []
     },
     "output_type": "execute_result"
    }
   ],
   "source": [
    "# general\n",
    "import pandas as pd\n",
    "import numpy as np\n",
    "import matplotlib.pyplot as plt\n",
    "import os\n",
    "import datetime\n",
    "import time\n",
    "import glob\n",
    "\n",
    "# scikit\n",
    "from sklearn.feature_extraction.text import TfidfVectorizer, TfidfTransformer\n",
    "from sklearn.model_selection import train_test_split\n",
    "from sklearn.linear_model import LinearRegression\n",
    "from sklearn.metrics import mean_squared_error\n",
    "from sklearn.model_selection import KFold, RepeatedKFold, StratifiedKFold\n",
    "from sklearn.metrics.pairwise import cosine_similarity\n",
    "\n",
    "# keras\n",
    "from keras.models import Model, Sequential\n",
    "from keras import layers, regularizers, callbacks, utils\n",
    "from keras.preprocessing.text import Tokenizer\n",
    "from keras.preprocessing.sequence import pad_sequences\n",
    "from keras import backend as K\n",
    "from keras.utils.training_utils import multi_gpu_model\n",
    "\n",
    "#tensorflow\n",
    "import tensorflow as tf\n",
    "from tensorflow.python.client import device_lib\n",
    "\n",
    "# nltk\n",
    "import nltk\n",
    "from nltk import word_tokenize, tokenize\n",
    "from nltk.corpus import stopwords\n",
    "from nltk.stem import WordNetLemmatizer\n",
    "from nltk.sentiment.vader import SentimentIntensityAnalyzer\n",
    "\n",
    "nltk.download('stopwords')\n",
    "nltk.download('punkt')\n",
    "nltk.download('vader_lexicon')"
   ]
  },
  {
   "cell_type": "code",
   "execution_count": 0,
   "metadata": {
    "colab": {
     "base_uri": "https://localhost:8080/",
     "height": 34
    },
    "colab_type": "code",
    "executionInfo": {
     "elapsed": 1664,
     "status": "ok",
     "timestamp": 1559848464210,
     "user": {
      "displayName": "Angel Felipe Magnossao de Paula",
      "photoUrl": "",
      "userId": "13628264624700653838"
     },
     "user_tz": 180
    },
    "id": "l47G7mqPHlBA",
    "outputId": "505b6811-061e-4630-be40-7591692e094d"
   },
   "outputs": [
    {
     "data": {
      "text/plain": [
       "True"
      ]
     },
     "execution_count": 2,
     "metadata": {
      "tags": []
     },
     "output_type": "execute_result"
    }
   ],
   "source": [
    "# testing if GPU available and if using CUDA\n",
    "tf.test.is_gpu_available(\n",
    "    cuda_only=True,\n",
    "    min_cuda_compute_capability=None\n",
    ")"
   ]
  },
  {
   "cell_type": "code",
   "execution_count": 0,
   "metadata": {
    "colab": {
     "base_uri": "https://localhost:8080/",
     "height": 34
    },
    "colab_type": "code",
    "executionInfo": {
     "elapsed": 1679,
     "status": "ok",
     "timestamp": 1559848464233,
     "user": {
      "displayName": "Angel Felipe Magnossao de Paula",
      "photoUrl": "",
      "userId": "13628264624700653838"
     },
     "user_tz": 180
    },
    "id": "OQbtHrHUbgWQ",
    "outputId": "3bb3dbc1-5f57-4bc3-e5d7-9034460c22f0"
   },
   "outputs": [
    {
     "data": {
      "text/plain": [
       "2"
      ]
     },
     "execution_count": 3,
     "metadata": {
      "tags": []
     },
     "output_type": "execute_result"
    }
   ],
   "source": [
    "def get_available_gpus():\n",
    "   local_device_protos = device_lib.list_local_devices()\n",
    "   return [x.name for x in local_device_protos if x.device_type == 'GPU']\n",
    "\n",
    "num_gpu = len(get_available_gpus())\n",
    "num_gpu"
   ]
  },
  {
   "cell_type": "code",
   "execution_count": 0,
   "metadata": {
    "colab": {},
    "colab_type": "code",
    "id": "0lZweddAbcgq"
   },
   "outputs": [],
   "source": [
    "#folder setup\n",
    "\n",
    "results_cnn = 'results/cnn/raw/emb_vader/'\n",
    "results_svr = 'results/svr/raw/'\n",
    "results_lstm = 'results/lstm/raw/'\n",
    "\n",
    "resources = '../resources/'\n",
    "\n",
    "if not os.path.isdir(results_cnn):\n",
    "    ! mkdir -p $results_cnn\n",
    "    ! mkdir -p $results_svr\n",
    "    ! mkdir -p $results_lstm\n",
    "    \n",
    "if not os.path.isdir(resources):\n",
    "    ! mkdir -p $resources"
   ]
  },
  {
   "cell_type": "markdown",
   "metadata": {
    "colab_type": "text",
    "id": "OdHkxTFawp7b"
   },
   "source": [
    "# Loading Dataset"
   ]
  },
  {
   "cell_type": "code",
   "execution_count": 0,
   "metadata": {
    "colab": {
     "base_uri": "https://localhost:8080/",
     "height": 204
    },
    "colab_type": "code",
    "executionInfo": {
     "elapsed": 1781,
     "status": "ok",
     "timestamp": 1559848464352,
     "user": {
      "displayName": "Angel Felipe Magnossao de Paula",
      "photoUrl": "",
      "userId": "13628264624700653838"
     },
     "user_tz": 180
    },
    "id": "c8ZQ9Xj0wp7c",
    "outputId": "8210943b-7530-4bde-b0bc-26994e701eb4"
   },
   "outputs": [
    {
     "data": {
      "text/html": [
       "<div>\n",
       "<style scoped>\n",
       "    .dataframe tbody tr th:only-of-type {\n",
       "        vertical-align: middle;\n",
       "    }\n",
       "\n",
       "    .dataframe tbody tr th {\n",
       "        vertical-align: top;\n",
       "    }\n",
       "\n",
       "    .dataframe thead th {\n",
       "        text-align: right;\n",
       "    }\n",
       "</style>\n",
       "<table border=\"1\" class=\"dataframe\">\n",
       "  <thead>\n",
       "    <tr style=\"text-align: right;\">\n",
       "      <th></th>\n",
       "      <th>company</th>\n",
       "      <th>id</th>\n",
       "      <th>sentiment</th>\n",
       "      <th>title</th>\n",
       "    </tr>\n",
       "  </thead>\n",
       "  <tbody>\n",
       "    <tr>\n",
       "      <th>0</th>\n",
       "      <td>Morrisons</td>\n",
       "      <td>2</td>\n",
       "      <td>0.430</td>\n",
       "      <td>Morrisons book second consecutive quarter of s...</td>\n",
       "    </tr>\n",
       "    <tr>\n",
       "      <th>1</th>\n",
       "      <td>IMI</td>\n",
       "      <td>3</td>\n",
       "      <td>-0.344</td>\n",
       "      <td>IMI posts drop in first-quarter organic revenu...</td>\n",
       "    </tr>\n",
       "    <tr>\n",
       "      <th>2</th>\n",
       "      <td>Glencore</td>\n",
       "      <td>4</td>\n",
       "      <td>0.340</td>\n",
       "      <td>Glencore to refinance its short-term debt earl...</td>\n",
       "    </tr>\n",
       "    <tr>\n",
       "      <th>3</th>\n",
       "      <td>Ryanair</td>\n",
       "      <td>5</td>\n",
       "      <td>0.259</td>\n",
       "      <td>EasyJet attracts more passengers in June but s...</td>\n",
       "    </tr>\n",
       "    <tr>\n",
       "      <th>4</th>\n",
       "      <td>Barclays</td>\n",
       "      <td>6</td>\n",
       "      <td>-0.231</td>\n",
       "      <td>Barclays 'bad bank' chief to step down</td>\n",
       "    </tr>\n",
       "  </tbody>\n",
       "</table>\n",
       "</div>"
      ],
      "text/plain": [
       "     company  id  sentiment                                              title\n",
       "0  Morrisons   2      0.430  Morrisons book second consecutive quarter of s...\n",
       "1        IMI   3     -0.344  IMI posts drop in first-quarter organic revenu...\n",
       "2   Glencore   4      0.340  Glencore to refinance its short-term debt earl...\n",
       "3    Ryanair   5      0.259  EasyJet attracts more passengers in June but s...\n",
       "4   Barclays   6     -0.231             Barclays 'bad bank' chief to step down"
      ]
     },
     "execution_count": 5,
     "metadata": {
      "tags": []
     },
     "output_type": "execute_result"
    }
   ],
   "source": [
    "# Loading training data\n",
    "df_train = pd.read_json('Headline_Trainingdata.json')\n",
    "df_train.head()"
   ]
  },
  {
   "cell_type": "code",
   "execution_count": 0,
   "metadata": {
    "colab": {
     "base_uri": "https://localhost:8080/",
     "height": 187
    },
    "colab_type": "code",
    "executionInfo": {
     "elapsed": 1770,
     "status": "ok",
     "timestamp": 1559848464354,
     "user": {
      "displayName": "Angel Felipe Magnossao de Paula",
      "photoUrl": "",
      "userId": "13628264624700653838"
     },
     "user_tz": 180
    },
    "id": "vb5O2ouj-BlX",
    "outputId": "6d37d04c-5f5e-4408-e137-310a9767464c"
   },
   "outputs": [
    {
     "data": {
      "text/plain": [
       "6    131\n",
       "3    129\n",
       "8    128\n",
       "2    127\n",
       "1    127\n",
       "9    126\n",
       "5    126\n",
       "4    125\n",
       "7    123\n",
       "Name: quantile, dtype: int64"
      ]
     },
     "execution_count": 6,
     "metadata": {
      "tags": []
     },
     "output_type": "execute_result"
    }
   ],
   "source": [
    "n_bins = 9\n",
    "# bins = df_train['sentiment'].quantile([0.1*q for q in range(0,n_bins)])\n",
    "# df_train['quantile'] = pd.cut(df_train['sentiment'], bins=bins, labels=range(1,n_bins+1))\n",
    "# df_train['quantile'] = pd.cut(df_train['sentiment'], bins=bins, include_lowest=True)\n",
    "\n",
    "df_train['quantile'] = pd.qcut(df_train['sentiment'], q=n_bins, labels=range(1,n_bins+1))\n",
    "df_train['quantile'].value_counts()"
   ]
  },
  {
   "cell_type": "code",
   "execution_count": 0,
   "metadata": {
    "colab": {
     "base_uri": "https://localhost:8080/",
     "height": 34
    },
    "colab_type": "code",
    "executionInfo": {
     "elapsed": 1764,
     "status": "ok",
     "timestamp": 1559848464355,
     "user": {
      "displayName": "Angel Felipe Magnossao de Paula",
      "photoUrl": "",
      "userId": "13628264624700653838"
     },
     "user_tz": 180
    },
    "id": "XKTCXsWaD9RW",
    "outputId": "77ec6531-3d44-4382-b68e-1f445712d212"
   },
   "outputs": [
    {
     "name": "stdout",
     "output_type": "stream",
     "text": [
      "mean: 0.03104903677758319; std: 0.39360209451145045\n"
     ]
    }
   ],
   "source": [
    "print('mean: {}; std: {}'.format(np.mean(df_train['sentiment']), np.std(df_train['sentiment'])))\n",
    "# df_train['sentiment'].min()\n",
    "# df_train['sentiment'].idxmin()\n",
    "# df_train.iloc[20]"
   ]
  },
  {
   "cell_type": "code",
   "execution_count": 0,
   "metadata": {
    "colab": {
     "base_uri": "https://localhost:8080/",
     "height": 102
    },
    "colab_type": "code",
    "executionInfo": {
     "elapsed": 1760,
     "status": "ok",
     "timestamp": 1559848464360,
     "user": {
      "displayName": "Angel Felipe Magnossao de Paula",
      "photoUrl": "",
      "userId": "13628264624700653838"
     },
     "user_tz": 180
    },
    "id": "w619GiP9clF9",
    "outputId": "0b7631df-e4ec-4442-8249-9eda4a0086cb"
   },
   "outputs": [
    {
     "name": "stdout",
     "output_type": "stream",
     "text": [
      "df_train CV: mean: 0.03412017167381975; std: 0.38683983574619385\n",
      "df_train CV: mean: 0.028765217391304363; std: 0.4037852384500579\n",
      "df_train CV: mean: 0.029614035087719294; std: 0.3849741278336272\n",
      "df_train CV: mean: 0.02813274336283186; std: 0.4028562295301328\n",
      "df_train CV: mean: 0.03458666666666667; std: 0.3891696491534537\n"
     ]
    }
   ],
   "source": [
    "# fix random seed for reproducibility\n",
    "seed = 42\n",
    "np.random.seed(seed)\n",
    "\n",
    "n_splits = 5\n",
    "skf = StratifiedKFold(n_splits=n_splits, shuffle=True)\n",
    "\n",
    "for fit_index, cv_index in skf.split(df_train, df_train['quantile']):\n",
    "#   print(\"TRAIN:\", train_index.size, \"TEST:\", test_index.size)\n",
    "#   print(\"TRAIN:\", train_index, \"TEST:\", test_index)\n",
    "#   print(\"TRAIN:\", df_train.iloc[train_index], \"TEST:\", df_train.iloc[test_index])\n",
    "#   print('TRAIN: mean: {}; std: {}'.format(np.mean(df_train['sentiment'].iloc[train_index]), np.std(df_train['sentiment'].iloc[train_index])))\n",
    "  print('df_train CV: mean: {}; std: {}'.format(np.mean(df_train['sentiment'].iloc[cv_index]), np.std(df_train['sentiment'].iloc[cv_index])))\n",
    "#   df_train['sentiment'].iloc[test_index]\n",
    "#   df_train.iloc[test_index]"
   ]
  },
  {
   "cell_type": "code",
   "execution_count": 0,
   "metadata": {
    "colab": {
     "base_uri": "https://localhost:8080/",
     "height": 204
    },
    "colab_type": "code",
    "executionInfo": {
     "elapsed": 4562,
     "status": "ok",
     "timestamp": 1559848467170,
     "user": {
      "displayName": "Angel Felipe Magnossao de Paula",
      "photoUrl": "",
      "userId": "13628264624700653838"
     },
     "user_tz": 180
    },
    "id": "sq_o9rsM08Mg",
    "outputId": "42746caa-ee78-448c-9686-6dd5b9f417b2"
   },
   "outputs": [
    {
     "data": {
      "text/html": [
       "<div>\n",
       "<style scoped>\n",
       "    .dataframe tbody tr th:only-of-type {\n",
       "        vertical-align: middle;\n",
       "    }\n",
       "\n",
       "    .dataframe tbody tr th {\n",
       "        vertical-align: top;\n",
       "    }\n",
       "\n",
       "    .dataframe thead th {\n",
       "        text-align: right;\n",
       "    }\n",
       "</style>\n",
       "<table border=\"1\" class=\"dataframe\">\n",
       "  <thead>\n",
       "    <tr style=\"text-align: right;\">\n",
       "      <th></th>\n",
       "      <th>company</th>\n",
       "      <th>id</th>\n",
       "      <th>sentiment</th>\n",
       "      <th>title</th>\n",
       "    </tr>\n",
       "  </thead>\n",
       "  <tbody>\n",
       "    <tr>\n",
       "      <th>0</th>\n",
       "      <td>Ashtead</td>\n",
       "      <td>1144</td>\n",
       "      <td>0.588</td>\n",
       "      <td>Ashtead to buy back shares, full-year profit b...</td>\n",
       "    </tr>\n",
       "    <tr>\n",
       "      <th>1</th>\n",
       "      <td>Shell</td>\n",
       "      <td>1145</td>\n",
       "      <td>0.276</td>\n",
       "      <td>EU regulators clear Shell's takeover of BG Group</td>\n",
       "    </tr>\n",
       "    <tr>\n",
       "      <th>2</th>\n",
       "      <td>Prudential</td>\n",
       "      <td>1146</td>\n",
       "      <td>-0.651</td>\n",
       "      <td>UK's FTSE has worst day so far in 2015 as BG a...</td>\n",
       "    </tr>\n",
       "    <tr>\n",
       "      <th>3</th>\n",
       "      <td>GlaxoSmithKline</td>\n",
       "      <td>1147</td>\n",
       "      <td>0.390</td>\n",
       "      <td>GlaxoSmithKline acquires HIV assets</td>\n",
       "    </tr>\n",
       "    <tr>\n",
       "      <th>4</th>\n",
       "      <td>Barclays</td>\n",
       "      <td>1148</td>\n",
       "      <td>-0.834</td>\n",
       "      <td>Barclays faces another heavy forex fine</td>\n",
       "    </tr>\n",
       "  </tbody>\n",
       "</table>\n",
       "</div>"
      ],
      "text/plain": [
       "           company    id  sentiment  \\\n",
       "0          Ashtead  1144      0.588   \n",
       "1            Shell  1145      0.276   \n",
       "2       Prudential  1146     -0.651   \n",
       "3  GlaxoSmithKline  1147      0.390   \n",
       "4         Barclays  1148     -0.834   \n",
       "\n",
       "                                               title  \n",
       "0  Ashtead to buy back shares, full-year profit b...  \n",
       "1   EU regulators clear Shell's takeover of BG Group  \n",
       "2  UK's FTSE has worst day so far in 2015 as BG a...  \n",
       "3                GlaxoSmithKline acquires HIV assets  \n",
       "4            Barclays faces another heavy forex fine  "
      ]
     },
     "execution_count": 9,
     "metadata": {
      "tags": []
     },
     "output_type": "execute_result"
    }
   ],
   "source": [
    "# Loading testing data, and removing normalizing collumns\n",
    "df_test = pd.read_json(\"Headlines_Testdata_withscores.json\")\n",
    "\n",
    "df_test.drop('UniqueID', axis=1, inplace=True)\n",
    "df_test.rename(columns={'sentiment score': 'sentiment'}, inplace=True)\n",
    "\n",
    "df_test.head()"
   ]
  },
  {
   "cell_type": "code",
   "execution_count": 0,
   "metadata": {
    "colab": {
     "base_uri": "https://localhost:8080/",
     "height": 34
    },
    "colab_type": "code",
    "executionInfo": {
     "elapsed": 4555,
     "status": "ok",
     "timestamp": 1559848467173,
     "user": {
      "displayName": "Angel Felipe Magnossao de Paula",
      "photoUrl": "",
      "userId": "13628264624700653838"
     },
     "user_tz": 180
    },
    "id": "K9ufADTxblRd",
    "outputId": "f99e5ede-36cc-4679-e0cb-7c0990ef582b"
   },
   "outputs": [
    {
     "name": "stdout",
     "output_type": "stream",
     "text": [
      "df_test: mean: 0.014820773930753563; std: 0.4137897136769093\n"
     ]
    }
   ],
   "source": [
    "print('df_test: mean: {}; std: {}'.format(np.mean(df_test['sentiment']), np.std(df_test['sentiment'])))"
   ]
  },
  {
   "cell_type": "markdown",
   "metadata": {
    "colab_type": "text",
    "id": "L-_1M_B-wp7k"
   },
   "source": [
    "# Preprocessing"
   ]
  },
  {
   "cell_type": "code",
   "execution_count": 0,
   "metadata": {
    "colab": {
     "base_uri": "https://localhost:8080/",
     "height": 204
    },
    "colab_type": "code",
    "executionInfo": {
     "elapsed": 4541,
     "status": "ok",
     "timestamp": 1559848467174,
     "user": {
      "displayName": "Angel Felipe Magnossao de Paula",
      "photoUrl": "",
      "userId": "13628264624700653838"
     },
     "user_tz": 180
    },
    "id": "2dpikgLywp7k",
    "outputId": "5956ed70-f4f2-4f1d-adf1-2723db1020ce"
   },
   "outputs": [
    {
     "data": {
      "text/html": [
       "<div>\n",
       "<style scoped>\n",
       "    .dataframe tbody tr th:only-of-type {\n",
       "        vertical-align: middle;\n",
       "    }\n",
       "\n",
       "    .dataframe tbody tr th {\n",
       "        vertical-align: top;\n",
       "    }\n",
       "\n",
       "    .dataframe thead th {\n",
       "        text-align: right;\n",
       "    }\n",
       "</style>\n",
       "<table border=\"1\" class=\"dataframe\">\n",
       "  <thead>\n",
       "    <tr style=\"text-align: right;\">\n",
       "      <th></th>\n",
       "      <th>company</th>\n",
       "      <th>id</th>\n",
       "      <th>sentiment</th>\n",
       "      <th>title</th>\n",
       "      <th>clean_tokens</th>\n",
       "      <th>new_title</th>\n",
       "    </tr>\n",
       "  </thead>\n",
       "  <tbody>\n",
       "    <tr>\n",
       "      <th>0</th>\n",
       "      <td>Ashtead</td>\n",
       "      <td>1144</td>\n",
       "      <td>0.588</td>\n",
       "      <td>Ashtead to buy back shares, full-year profit b...</td>\n",
       "      <td>[company, buy, back, shares, ,, full-year, pro...</td>\n",
       "      <td>company buy back shares , full-year profit bea...</td>\n",
       "    </tr>\n",
       "    <tr>\n",
       "      <th>1</th>\n",
       "      <td>Shell</td>\n",
       "      <td>1145</td>\n",
       "      <td>0.276</td>\n",
       "      <td>EU regulators clear Shell's takeover of BG Group</td>\n",
       "      <td>[eu, regulators, clear, company, s, takeover, ...</td>\n",
       "      <td>eu regulators clear company s takeover bg group</td>\n",
       "    </tr>\n",
       "    <tr>\n",
       "      <th>2</th>\n",
       "      <td>Prudential</td>\n",
       "      <td>1146</td>\n",
       "      <td>-0.651</td>\n",
       "      <td>UK's FTSE has worst day so far in 2015 as BG a...</td>\n",
       "      <td>[uk, s, ftse, worst, day, far, 2015, bg, compa...</td>\n",
       "      <td>uk s ftse worst day far 2015 bg company fall</td>\n",
       "    </tr>\n",
       "    <tr>\n",
       "      <th>3</th>\n",
       "      <td>GlaxoSmithKline</td>\n",
       "      <td>1147</td>\n",
       "      <td>0.390</td>\n",
       "      <td>GlaxoSmithKline acquires HIV assets</td>\n",
       "      <td>[company, acquires, hiv, assets]</td>\n",
       "      <td>company acquires hiv assets</td>\n",
       "    </tr>\n",
       "    <tr>\n",
       "      <th>4</th>\n",
       "      <td>Barclays</td>\n",
       "      <td>1148</td>\n",
       "      <td>-0.834</td>\n",
       "      <td>Barclays faces another heavy forex fine</td>\n",
       "      <td>[company, faces, another, heavy, forex, fine]</td>\n",
       "      <td>company faces another heavy forex fine</td>\n",
       "    </tr>\n",
       "  </tbody>\n",
       "</table>\n",
       "</div>"
      ],
      "text/plain": [
       "           company    id  sentiment  \\\n",
       "0          Ashtead  1144      0.588   \n",
       "1            Shell  1145      0.276   \n",
       "2       Prudential  1146     -0.651   \n",
       "3  GlaxoSmithKline  1147      0.390   \n",
       "4         Barclays  1148     -0.834   \n",
       "\n",
       "                                               title  \\\n",
       "0  Ashtead to buy back shares, full-year profit b...   \n",
       "1   EU regulators clear Shell's takeover of BG Group   \n",
       "2  UK's FTSE has worst day so far in 2015 as BG a...   \n",
       "3                GlaxoSmithKline acquires HIV assets   \n",
       "4            Barclays faces another heavy forex fine   \n",
       "\n",
       "                                        clean_tokens  \\\n",
       "0  [company, buy, back, shares, ,, full-year, pro...   \n",
       "1  [eu, regulators, clear, company, s, takeover, ...   \n",
       "2  [uk, s, ftse, worst, day, far, 2015, bg, compa...   \n",
       "3                   [company, acquires, hiv, assets]   \n",
       "4      [company, faces, another, heavy, forex, fine]   \n",
       "\n",
       "                                           new_title  \n",
       "0  company buy back shares , full-year profit bea...  \n",
       "1    eu regulators clear company s takeover bg group  \n",
       "2       uk s ftse worst day far 2015 bg company fall  \n",
       "3                        company acquires hiv assets  \n",
       "4             company faces another heavy forex fine  "
      ]
     },
     "execution_count": 11,
     "metadata": {
      "tags": []
     },
     "output_type": "execute_result"
    }
   ],
   "source": [
    "#stop words removal\n",
    "def run_preprocessing(df):\n",
    "  # replace company name by placeholder and remove double quotes that is not preprocessed well by word_tokenize\n",
    "  # also lower casing words for compatilbility with glove, which only has lower casing words\n",
    "  # be aware that some companies namies are not identical\n",
    "  # example: id = 10 Centrica PLC appears as just Centrica on title\n",
    "  title_company_replaced = df['title'].replace(df['company'], 'company', regex = True).replace('\"', '', regex = True).str.lower()\n",
    "#   title_company_replaced = df['title'].replace(df['company'], 'company', regex = True)\n",
    "\n",
    "  # tokenize headlines\n",
    "  tokenized_title = title_company_replaced.apply(word_tokenize)\n",
    "  \n",
    "  # removing stopwords and single quotes\n",
    "  # stop_words: {'does', 'under', 'own', 'at', 'of', 'don', 'hers', 'further', 're', \"you'll\", 'into', 'she', 'such', 'shan', 'you', \"haven't\", 'when', 'me', 'a', 'all', \"shan't\", 'mustn', \"should've\", \"didn't\", \"aren't\", \"weren't\", 'after', 'ain', 's', \"that'll\", 'just', 'am', 'the', 'too', 'before', \"wasn't\", 'what', 'haven', 'm', 'up', 'against', 'how', 'who', 'yourselves', 'nor', 'than', 've', 'between', 'being', 'are', 'and', \"don't\", 'themselves', 'were', 'itself', 'd', 'doesn', 'there', \"wouldn't\", 'both', 'we', 'why', 'needn', 'those', 'out', 'mightn', 'which', 'it', 'here', 'theirs', 'any', 'my', 'that', \"doesn't\", 'should', 'him', 'weren', 'from', 'no', 'wouldn', 'once', 'with', 'will', 'have', 'is', 'most', 'hasn', 'll', 'yours', 'himself', 'was', 'this', 'or', 'over', 'again', 'y', 'do', 'through', \"hasn't\", \"she's\", 'same', 'down', 'has', 'so', 'can', 'shouldn', \"hadn't\", 'while', 'for', 'but', 'whom', \"mustn't\", 'our', 'if', \"couldn't\", \"you've\", 'be', 'been', 'myself', 'did', 'few', 'hadn', 'other', \"you'd\", 'not', 'ma', 'their', 'off', \"shouldn't\", 'had', 'these', 'his', 'yourself', 'very', \"isn't\", 'aren', 'o', 'won', 'because', 'isn', 'wasn', 'herself', 'by', 'where', 'your', 'i', \"it's\", 'above', 'until', \"you're\", 'they', 'only', 'ours', 'below', \"mightn't\", 'some', \"won't\", 'about', 'couldn', 'ourselves', 'them', 'he', 'during', 'more', 't', 'as', 'now', 'didn', \"needn't\", 'an', 'to', 'each', 'its', 'her', 'doing', 'then', 'on', 'in', 'having'}  \n",
    "  # some of these word should probably not be removed like the word: won't\n",
    "  # also maybe consider using TweetTokenizer, that mayy deal better with contactions like: Glencore's \n",
    "  stopwords_english = stopwords.words('english')\n",
    "  stopwords_english.append('\\'')\n",
    "\n",
    "  df['clean_tokens'] = tokenized_title.apply(lambda x: [item.strip('\\'') for item in x if item not in stopwords_english])\n",
    "#   df['clean_tokens'] = tokenized_title.apply(lambda x: [item for item in x if item not in stopwords_english])\n",
    "  df['new_title'] =  df['clean_tokens'].apply(lambda x: ' '.join(x))\n",
    "  \n",
    "run_preprocessing(df_train)\n",
    "run_preprocessing(df_test)\n",
    "\n",
    "df_test.head()"
   ]
  },
  {
   "cell_type": "markdown",
   "metadata": {
    "colab_type": "text",
    "id": "9NmyHJxUwp7x"
   },
   "source": [
    "## Tokenizing and Padding"
   ]
  },
  {
   "cell_type": "code",
   "execution_count": 0,
   "metadata": {
    "colab": {
     "base_uri": "https://localhost:8080/",
     "height": 34
    },
    "colab_type": "code",
    "executionInfo": {
     "elapsed": 4533,
     "status": "ok",
     "timestamp": 1559848467176,
     "user": {
      "displayName": "Angel Felipe Magnossao de Paula",
      "photoUrl": "",
      "userId": "13628264624700653838"
     },
     "user_tz": 180
    },
    "id": "iVc6F4_vj7Gx",
    "outputId": "c5d3dd26-535c-4a7c-fd75-c6b78145ebf2"
   },
   "outputs": [
    {
     "name": "stdout",
     "output_type": "stream",
     "text": [
      "max: 16 | min: 3 | mean: 8.249562171628721 | std: 2.0743354560287957\n"
     ]
    }
   ],
   "source": [
    "clean_tokens_length = df_train[\"clean_tokens\"].apply(lambda x: len(x))\n",
    "\n",
    "max_sentence_length_train = np.max(clean_tokens_length)\n",
    "min_sentence_length_train = np.min(clean_tokens_length)\n",
    "mean_sentence_length_train = np.mean(clean_tokens_length)\n",
    "std_sentence_length_train = np.std(clean_tokens_length)\n",
    "\n",
    "\n",
    "print(\"max: {} | min: {} | mean: {} | std: {}\".format(max_sentence_length_train, min_sentence_length_train, mean_sentence_length_train, std_sentence_length_train))"
   ]
  },
  {
   "cell_type": "code",
   "execution_count": 0,
   "metadata": {
    "colab": {},
    "colab_type": "code",
    "id": "9gLNeUqVnkmc"
   },
   "outputs": [],
   "source": [
    "# giving the max_sentence_length_train, we will use a number a little above\n",
    "# TODO: evaluate if this is too much of a leakage, because each fold may yield different sequence MAX\n",
    "MAX_SEQUENCE_LENGTH = 21"
   ]
  },
  {
   "cell_type": "code",
   "execution_count": 0,
   "metadata": {
    "colab": {},
    "colab_type": "code",
    "id": "BJXCYNGwowZS"
   },
   "outputs": [],
   "source": [
    "MAX_VOCAB_SIZE = 10000\n",
    "\n",
    "# receives healines and returns tokenizer with vocab mappings and padded sentences read to use\n",
    "def get_tok_sentences(doc_fit, doc_cv):\n",
    "  tokenizer = Tokenizer(num_words=MAX_VOCAB_SIZE, filters='', lower=False)\n",
    "  tokenizer.fit_on_texts(doc_fit)\n",
    "\n",
    "  fit_sentences = tokenizer.texts_to_sequences(doc_fit)\n",
    "  cv_sentences = tokenizer.texts_to_sequences(doc_cv)\n",
    "  \n",
    "  fit_sentences_pad = pad_sequences(fit_sentences, padding='post', maxlen=MAX_SEQUENCE_LENGTH)\n",
    "  cv_sentences_pad = pad_sequences(cv_sentences, padding='post', maxlen=MAX_SEQUENCE_LENGTH)\n",
    "\n",
    "  return fit_sentences_pad, cv_sentences_pad, tokenizer\n",
    "\n",
    "# sentences_seq_train, vocab_size, tokenizer = prepare_tokenizer(df_train)\n",
    "# tokenizer.word_docs"
   ]
  },
  {
   "cell_type": "code",
   "execution_count": 0,
   "metadata": {
    "colab": {},
    "colab_type": "code",
    "id": "QS3NZC6Zs0im"
   },
   "outputs": [],
   "source": [
    "# sentences_seq_train = pad_sequences(sentences_seq_train, padding='post', maxlen=MAX_SEQUENCE_LENGTH)\n",
    "# print(sentences_seq_train[1134, :])"
   ]
  },
  {
   "cell_type": "code",
   "execution_count": 0,
   "metadata": {
    "colab": {},
    "colab_type": "code",
    "id": "N54Xko65BOiq"
   },
   "outputs": [],
   "source": [
    "#TODO: may be a good idea: FROM: https://www.tensorflow.org/tutorials/keras/basic_text_classification\n",
    "\n",
    "# # A dictionary mapping words to an integer index\n",
    "# word_index = imdb.get_word_index()\n",
    "\n",
    "# # The first indices are reserved\n",
    "# word_index = {k:(v+3) for k,v in word_index.items()} \n",
    "# word_index[\"<PAD>\"] = 0\n",
    "# word_index[\"<START>\"] = 1\n",
    "# word_index[\"<UNK>\"] = 2  # unknown\n",
    "# word_index[\"<UNUSED>\"] = 3\n",
    "\n",
    "# reverse_word_index = dict([(value, key) for (key, value) in word_index.items()])\n",
    "\n",
    "# def decode_review(text):\n",
    "#     return ' '.join([reverse_word_index.get(i, '?') for i in text])\n",
    "\n",
    "# decode_review(train_data[0])\n"
   ]
  },
  {
   "cell_type": "markdown",
   "metadata": {
    "colab_type": "text",
    "id": "83-K4yu5r9Gv"
   },
   "source": [
    "## Sentiment Dictionaries"
   ]
  },
  {
   "cell_type": "markdown",
   "metadata": {
    "colab_type": "text",
    "id": "jocsyJfGwp7n"
   },
   "source": [
    "### Loughran McDonald Dictionary"
   ]
  },
  {
   "cell_type": "code",
   "execution_count": 0,
   "metadata": {
    "colab": {},
    "colab_type": "code",
    "id": "PXsRVyu6XLy_"
   },
   "outputs": [],
   "source": [
    "LMDDictionary = {}\n",
    "vetor = []\n",
    "\n",
    "# TODO: this can be done directly by converting to pandas and than calling the to_dict function\n",
    "with open('LoughranMcDonald_MasterDictionary_2016.csv', 'r', encoding=\"utf8\") as f:\n",
    "    for line in f:\n",
    "        palavra = line.split(',')[0].lower()\n",
    "        vetor_char = line.split(',')[7:14]\n",
    "        vetor = [1 if x!='0' else 0 for x in vetor_char]\n",
    "\n",
    "        LMDDictionary[palavra] = np.asarray(vetor)"
   ]
  },
  {
   "cell_type": "code",
   "execution_count": 0,
   "metadata": {
    "colab": {
     "base_uri": "https://localhost:8080/",
     "height": 204
    },
    "colab_type": "code",
    "executionInfo": {
     "elapsed": 4597,
     "status": "ok",
     "timestamp": 1559848467279,
     "user": {
      "displayName": "Angel Felipe Magnossao de Paula",
      "photoUrl": "",
      "userId": "13628264624700653838"
     },
     "user_tz": 180
    },
    "id": "Ju9zpKQAwp7o",
    "outputId": "aceeab94-45be-4a62-9a4b-153359754950"
   },
   "outputs": [
    {
     "data": {
      "text/html": [
       "<div>\n",
       "<style scoped>\n",
       "    .dataframe tbody tr th:only-of-type {\n",
       "        vertical-align: middle;\n",
       "    }\n",
       "\n",
       "    .dataframe tbody tr th {\n",
       "        vertical-align: top;\n",
       "    }\n",
       "\n",
       "    .dataframe thead th {\n",
       "        text-align: right;\n",
       "    }\n",
       "</style>\n",
       "<table border=\"1\" class=\"dataframe\">\n",
       "  <thead>\n",
       "    <tr style=\"text-align: right;\">\n",
       "      <th></th>\n",
       "      <th>company</th>\n",
       "      <th>id</th>\n",
       "      <th>sentiment</th>\n",
       "      <th>title</th>\n",
       "      <th>quantile</th>\n",
       "      <th>clean_tokens</th>\n",
       "      <th>new_title</th>\n",
       "      <th>LMDVector</th>\n",
       "      <th>mean_LMD</th>\n",
       "    </tr>\n",
       "  </thead>\n",
       "  <tbody>\n",
       "    <tr>\n",
       "      <th>0</th>\n",
       "      <td>Morrisons</td>\n",
       "      <td>2</td>\n",
       "      <td>0.430</td>\n",
       "      <td>Morrisons book second consecutive quarter of s...</td>\n",
       "      <td>8</td>\n",
       "      <td>[company, book, second, consecutive, quarter, ...</td>\n",
       "      <td>company book second consecutive quarter sales ...</td>\n",
       "      <td>[[0, 0, 0, 0, 0, 0, 0], [0, 0, 0, 0, 0, 0, 0],...</td>\n",
       "      <td>[0.0, 0.0, 0.0, 0.0, 0.0, 0.0, 0.0]</td>\n",
       "    </tr>\n",
       "    <tr>\n",
       "      <th>1</th>\n",
       "      <td>IMI</td>\n",
       "      <td>3</td>\n",
       "      <td>-0.344</td>\n",
       "      <td>IMI posts drop in first-quarter organic revenu...</td>\n",
       "      <td>2</td>\n",
       "      <td>[company, posts, drop, first-quarter, organic,...</td>\n",
       "      <td>company posts drop first-quarter organic reven...</td>\n",
       "      <td>[[0, 0, 0, 0, 0, 0, 0], [0, 0, 0, 0, 0, 0, 0],...</td>\n",
       "      <td>[0.1, 0.0, 0.0, 0.0, 0.0, 0.0, 0.1]</td>\n",
       "    </tr>\n",
       "    <tr>\n",
       "      <th>2</th>\n",
       "      <td>Glencore</td>\n",
       "      <td>4</td>\n",
       "      <td>0.340</td>\n",
       "      <td>Glencore to refinance its short-term debt earl...</td>\n",
       "      <td>7</td>\n",
       "      <td>[company, refinance, short-term, debt, early, ...</td>\n",
       "      <td>company refinance short-term debt early , shar...</td>\n",
       "      <td>[[0, 0, 0, 0, 0, 0, 0], [0, 0, 0, 0, 0, 0, 0],...</td>\n",
       "      <td>[0.0, 0.0, 0.0, 0.0, 0.0, 0.0, 0.0]</td>\n",
       "    </tr>\n",
       "    <tr>\n",
       "      <th>3</th>\n",
       "      <td>Ryanair</td>\n",
       "      <td>5</td>\n",
       "      <td>0.259</td>\n",
       "      <td>EasyJet attracts more passengers in June but s...</td>\n",
       "      <td>6</td>\n",
       "      <td>[easyjet, attracts, passengers, june, still, l...</td>\n",
       "      <td>easyjet attracts passengers june still lags co...</td>\n",
       "      <td>[[0, 0, 0, 0, 0, 0, 0], [0, 0, 0, 0, 0, 0, 0],...</td>\n",
       "      <td>[0.14285714285714285, 0.0, 0.0, 0.0, 0.0, 0.0,...</td>\n",
       "    </tr>\n",
       "    <tr>\n",
       "      <th>4</th>\n",
       "      <td>Barclays</td>\n",
       "      <td>6</td>\n",
       "      <td>-0.231</td>\n",
       "      <td>Barclays 'bad bank' chief to step down</td>\n",
       "      <td>3</td>\n",
       "      <td>[company, bad, bank, chief, step]</td>\n",
       "      <td>company bad bank chief step</td>\n",
       "      <td>[[0, 0, 0, 0, 0, 0, 0], [1, 0, 0, 0, 0, 0, 0],...</td>\n",
       "      <td>[0.2, 0.0, 0.0, 0.0, 0.0, 0.0, 0.0]</td>\n",
       "    </tr>\n",
       "  </tbody>\n",
       "</table>\n",
       "</div>"
      ],
      "text/plain": [
       "     company  id  sentiment  \\\n",
       "0  Morrisons   2      0.430   \n",
       "1        IMI   3     -0.344   \n",
       "2   Glencore   4      0.340   \n",
       "3    Ryanair   5      0.259   \n",
       "4   Barclays   6     -0.231   \n",
       "\n",
       "                                               title quantile  \\\n",
       "0  Morrisons book second consecutive quarter of s...        8   \n",
       "1  IMI posts drop in first-quarter organic revenu...        2   \n",
       "2  Glencore to refinance its short-term debt earl...        7   \n",
       "3  EasyJet attracts more passengers in June but s...        6   \n",
       "4             Barclays 'bad bank' chief to step down        3   \n",
       "\n",
       "                                        clean_tokens  \\\n",
       "0  [company, book, second, consecutive, quarter, ...   \n",
       "1  [company, posts, drop, first-quarter, organic,...   \n",
       "2  [company, refinance, short-term, debt, early, ...   \n",
       "3  [easyjet, attracts, passengers, june, still, l...   \n",
       "4                  [company, bad, bank, chief, step]   \n",
       "\n",
       "                                           new_title  \\\n",
       "0  company book second consecutive quarter sales ...   \n",
       "1  company posts drop first-quarter organic reven...   \n",
       "2  company refinance short-term debt early , shar...   \n",
       "3  easyjet attracts passengers june still lags co...   \n",
       "4                        company bad bank chief step   \n",
       "\n",
       "                                           LMDVector  \\\n",
       "0  [[0, 0, 0, 0, 0, 0, 0], [0, 0, 0, 0, 0, 0, 0],...   \n",
       "1  [[0, 0, 0, 0, 0, 0, 0], [0, 0, 0, 0, 0, 0, 0],...   \n",
       "2  [[0, 0, 0, 0, 0, 0, 0], [0, 0, 0, 0, 0, 0, 0],...   \n",
       "3  [[0, 0, 0, 0, 0, 0, 0], [0, 0, 0, 0, 0, 0, 0],...   \n",
       "4  [[0, 0, 0, 0, 0, 0, 0], [1, 0, 0, 0, 0, 0, 0],...   \n",
       "\n",
       "                                            mean_LMD  \n",
       "0                [0.0, 0.0, 0.0, 0.0, 0.0, 0.0, 0.0]  \n",
       "1                [0.1, 0.0, 0.0, 0.0, 0.0, 0.0, 0.1]  \n",
       "2                [0.0, 0.0, 0.0, 0.0, 0.0, 0.0, 0.0]  \n",
       "3  [0.14285714285714285, 0.0, 0.0, 0.0, 0.0, 0.0,...  \n",
       "4                [0.2, 0.0, 0.0, 0.0, 0.0, 0.0, 0.0]  "
      ]
     },
     "execution_count": 17,
     "metadata": {
      "tags": []
     },
     "output_type": "execute_result"
    }
   ],
   "source": [
    "zeros = [0, 0, 0, 0, 0, 0, 0]\n",
    "nan_list = [np.nan, np.nan, np.nan, np.nan, np.nan, np.nan, np.nan]\n",
    "\n",
    "def run_LMD(df):\n",
    "  df['LMDVector'] = df['clean_tokens'].apply(lambda x: [LMDDictionary.get(item, zeros) for item in x])\n",
    "  df['mean_LMD'] = df['LMDVector'].apply(lambda x: np.mean(x, axis=0, dtype=np.float64))\n",
    "  \n",
    "#   df['LMDVector'] = df['new_title'].apply(lambda x: [LMDDictionary.get(item, nan_list) for item in x]) #Taynan\n",
    "#   df['mean_LMD'] = df['LMDVector'].apply(lambda x: np.nanmean(x, axis=0, dtype=np.float64)) #Taynan\n",
    "  \n",
    "run_LMD(df_train)\n",
    "run_LMD(df_test)\n",
    "\n",
    "df_train.head()"
   ]
  },
  {
   "cell_type": "markdown",
   "metadata": {
    "colab_type": "text",
    "id": "MbzybLUewp70"
   },
   "source": [
    "### VADER"
   ]
  },
  {
   "cell_type": "code",
   "execution_count": 0,
   "metadata": {
    "colab": {
     "base_uri": "https://localhost:8080/",
     "height": 204
    },
    "colab_type": "code",
    "executionInfo": {
     "elapsed": 4593,
     "status": "ok",
     "timestamp": 1559848467282,
     "user": {
      "displayName": "Angel Felipe Magnossao de Paula",
      "photoUrl": "",
      "userId": "13628264624700653838"
     },
     "user_tz": 180
    },
    "id": "Rtd3NaKuznfJ",
    "outputId": "ef66cf7f-83d0-4821-abf0-db64b1669c6c"
   },
   "outputs": [
    {
     "data": {
      "text/html": [
       "<div>\n",
       "<style scoped>\n",
       "    .dataframe tbody tr th:only-of-type {\n",
       "        vertical-align: middle;\n",
       "    }\n",
       "\n",
       "    .dataframe tbody tr th {\n",
       "        vertical-align: top;\n",
       "    }\n",
       "\n",
       "    .dataframe thead th {\n",
       "        text-align: right;\n",
       "    }\n",
       "</style>\n",
       "<table border=\"1\" class=\"dataframe\">\n",
       "  <thead>\n",
       "    <tr style=\"text-align: right;\">\n",
       "      <th></th>\n",
       "      <th>company</th>\n",
       "      <th>id</th>\n",
       "      <th>sentiment</th>\n",
       "      <th>title</th>\n",
       "      <th>quantile</th>\n",
       "      <th>clean_tokens</th>\n",
       "      <th>new_title</th>\n",
       "      <th>LMDVector</th>\n",
       "      <th>mean_LMD</th>\n",
       "      <th>neu_VADER</th>\n",
       "      <th>pos_VADER</th>\n",
       "      <th>neg_VADER</th>\n",
       "      <th>compound_VADER</th>\n",
       "      <th>mean_VADER</th>\n",
       "    </tr>\n",
       "  </thead>\n",
       "  <tbody>\n",
       "    <tr>\n",
       "      <th>0</th>\n",
       "      <td>Morrisons</td>\n",
       "      <td>2</td>\n",
       "      <td>0.430</td>\n",
       "      <td>Morrisons book second consecutive quarter of s...</td>\n",
       "      <td>8</td>\n",
       "      <td>[company, book, second, consecutive, quarter, ...</td>\n",
       "      <td>company book second consecutive quarter sales ...</td>\n",
       "      <td>[[0, 0, 0, 0, 0, 0, 0], [0, 0, 0, 0, 0, 0, 0],...</td>\n",
       "      <td>[0.0, 0.0, 0.0, 0.0, 0.0, 0.0, 0.0]</td>\n",
       "      <td>[1.0, 1.0, 1.0, 1.0, 1.0, 1.0, 0.0]</td>\n",
       "      <td>[0.0, 0.0, 0.0, 0.0, 0.0, 0.0, 1.0]</td>\n",
       "      <td>[0.0, 0.0, 0.0, 0.0, 0.0, 0.0, 0.0]</td>\n",
       "      <td>[0.0, 0.0, 0.0, 0.0, 0.0, 0.0, 0.3818]</td>\n",
       "      <td>[0.0, 0.698, 0.302, 0.3818]</td>\n",
       "    </tr>\n",
       "    <tr>\n",
       "      <th>1</th>\n",
       "      <td>IMI</td>\n",
       "      <td>3</td>\n",
       "      <td>-0.344</td>\n",
       "      <td>IMI posts drop in first-quarter organic revenu...</td>\n",
       "      <td>2</td>\n",
       "      <td>[company, posts, drop, first-quarter, organic,...</td>\n",
       "      <td>company posts drop first-quarter organic reven...</td>\n",
       "      <td>[[0, 0, 0, 0, 0, 0, 0], [0, 0, 0, 0, 0, 0, 0],...</td>\n",
       "      <td>[0.1, 0.0, 0.0, 0.0, 0.0, 0.0, 0.1]</td>\n",
       "      <td>[1.0, 1.0, 0.0, 1.0, 1.0, 1.0, 0.0, 0.0, 1.0, ...</td>\n",
       "      <td>[0.0, 0.0, 0.0, 0.0, 0.0, 0.0, 0.0, 0.0, 0.0, ...</td>\n",
       "      <td>[0.0, 0.0, 1.0, 0.0, 0.0, 0.0, 0.0, 1.0, 0.0, ...</td>\n",
       "      <td>[0.0, 0.0, -0.2732, 0.0, 0.0, 0.0, 0.0, -0.102...</td>\n",
       "      <td>[0.333, 0.667, 0.0, -0.3612]</td>\n",
       "    </tr>\n",
       "    <tr>\n",
       "      <th>2</th>\n",
       "      <td>Glencore</td>\n",
       "      <td>4</td>\n",
       "      <td>0.340</td>\n",
       "      <td>Glencore to refinance its short-term debt earl...</td>\n",
       "      <td>7</td>\n",
       "      <td>[company, refinance, short-term, debt, early, ...</td>\n",
       "      <td>company refinance short-term debt early , shar...</td>\n",
       "      <td>[[0, 0, 0, 0, 0, 0, 0], [0, 0, 0, 0, 0, 0, 0],...</td>\n",
       "      <td>[0.0, 0.0, 0.0, 0.0, 0.0, 0.0, 0.0]</td>\n",
       "      <td>[1.0, 1.0, 1.0, 0.0, 1.0, 0.0, 0.0, 1.0]</td>\n",
       "      <td>[0.0, 0.0, 0.0, 0.0, 0.0, 0.0, 1.0, 0.0]</td>\n",
       "      <td>[0.0, 0.0, 0.0, 1.0, 0.0, 0.0, 0.0, 0.0]</td>\n",
       "      <td>[0.0, 0.0, 0.0, -0.3612, 0.0, 0.0, 0.296, 0.0]</td>\n",
       "      <td>[0.258, 0.515, 0.227, -0.0772]</td>\n",
       "    </tr>\n",
       "    <tr>\n",
       "      <th>3</th>\n",
       "      <td>Ryanair</td>\n",
       "      <td>5</td>\n",
       "      <td>0.259</td>\n",
       "      <td>EasyJet attracts more passengers in June but s...</td>\n",
       "      <td>6</td>\n",
       "      <td>[easyjet, attracts, passengers, june, still, l...</td>\n",
       "      <td>easyjet attracts passengers june still lags co...</td>\n",
       "      <td>[[0, 0, 0, 0, 0, 0, 0], [0, 0, 0, 0, 0, 0, 0],...</td>\n",
       "      <td>[0.14285714285714285, 0.0, 0.0, 0.0, 0.0, 0.0,...</td>\n",
       "      <td>[1.0, 0.0, 1.0, 1.0, 1.0, 0.0, 1.0]</td>\n",
       "      <td>[0.0, 1.0, 0.0, 0.0, 0.0, 0.0, 0.0]</td>\n",
       "      <td>[0.0, 0.0, 0.0, 0.0, 0.0, 1.0, 0.0]</td>\n",
       "      <td>[0.0, 0.4019, 0.0, 0.0, 0.0, -0.3612, 0.0]</td>\n",
       "      <td>[0.245, 0.49, 0.265, 0.0516]</td>\n",
       "    </tr>\n",
       "    <tr>\n",
       "      <th>4</th>\n",
       "      <td>Barclays</td>\n",
       "      <td>6</td>\n",
       "      <td>-0.231</td>\n",
       "      <td>Barclays 'bad bank' chief to step down</td>\n",
       "      <td>3</td>\n",
       "      <td>[company, bad, bank, chief, step]</td>\n",
       "      <td>company bad bank chief step</td>\n",
       "      <td>[[0, 0, 0, 0, 0, 0, 0], [1, 0, 0, 0, 0, 0, 0],...</td>\n",
       "      <td>[0.2, 0.0, 0.0, 0.0, 0.0, 0.0, 0.0]</td>\n",
       "      <td>[1.0, 0.0, 1.0, 1.0, 1.0]</td>\n",
       "      <td>[0.0, 0.0, 0.0, 0.0, 0.0]</td>\n",
       "      <td>[0.0, 1.0, 0.0, 0.0, 0.0]</td>\n",
       "      <td>[0.0, -0.5423, 0.0, 0.0, 0.0]</td>\n",
       "      <td>[0.467, 0.533, 0.0, -0.5423]</td>\n",
       "    </tr>\n",
       "  </tbody>\n",
       "</table>\n",
       "</div>"
      ],
      "text/plain": [
       "     company  id  sentiment  \\\n",
       "0  Morrisons   2      0.430   \n",
       "1        IMI   3     -0.344   \n",
       "2   Glencore   4      0.340   \n",
       "3    Ryanair   5      0.259   \n",
       "4   Barclays   6     -0.231   \n",
       "\n",
       "                                               title quantile  \\\n",
       "0  Morrisons book second consecutive quarter of s...        8   \n",
       "1  IMI posts drop in first-quarter organic revenu...        2   \n",
       "2  Glencore to refinance its short-term debt earl...        7   \n",
       "3  EasyJet attracts more passengers in June but s...        6   \n",
       "4             Barclays 'bad bank' chief to step down        3   \n",
       "\n",
       "                                        clean_tokens  \\\n",
       "0  [company, book, second, consecutive, quarter, ...   \n",
       "1  [company, posts, drop, first-quarter, organic,...   \n",
       "2  [company, refinance, short-term, debt, early, ...   \n",
       "3  [easyjet, attracts, passengers, june, still, l...   \n",
       "4                  [company, bad, bank, chief, step]   \n",
       "\n",
       "                                           new_title  \\\n",
       "0  company book second consecutive quarter sales ...   \n",
       "1  company posts drop first-quarter organic reven...   \n",
       "2  company refinance short-term debt early , shar...   \n",
       "3  easyjet attracts passengers june still lags co...   \n",
       "4                        company bad bank chief step   \n",
       "\n",
       "                                           LMDVector  \\\n",
       "0  [[0, 0, 0, 0, 0, 0, 0], [0, 0, 0, 0, 0, 0, 0],...   \n",
       "1  [[0, 0, 0, 0, 0, 0, 0], [0, 0, 0, 0, 0, 0, 0],...   \n",
       "2  [[0, 0, 0, 0, 0, 0, 0], [0, 0, 0, 0, 0, 0, 0],...   \n",
       "3  [[0, 0, 0, 0, 0, 0, 0], [0, 0, 0, 0, 0, 0, 0],...   \n",
       "4  [[0, 0, 0, 0, 0, 0, 0], [1, 0, 0, 0, 0, 0, 0],...   \n",
       "\n",
       "                                            mean_LMD  \\\n",
       "0                [0.0, 0.0, 0.0, 0.0, 0.0, 0.0, 0.0]   \n",
       "1                [0.1, 0.0, 0.0, 0.0, 0.0, 0.0, 0.1]   \n",
       "2                [0.0, 0.0, 0.0, 0.0, 0.0, 0.0, 0.0]   \n",
       "3  [0.14285714285714285, 0.0, 0.0, 0.0, 0.0, 0.0,...   \n",
       "4                [0.2, 0.0, 0.0, 0.0, 0.0, 0.0, 0.0]   \n",
       "\n",
       "                                           neu_VADER  \\\n",
       "0                [1.0, 1.0, 1.0, 1.0, 1.0, 1.0, 0.0]   \n",
       "1  [1.0, 1.0, 0.0, 1.0, 1.0, 1.0, 0.0, 0.0, 1.0, ...   \n",
       "2           [1.0, 1.0, 1.0, 0.0, 1.0, 0.0, 0.0, 1.0]   \n",
       "3                [1.0, 0.0, 1.0, 1.0, 1.0, 0.0, 1.0]   \n",
       "4                          [1.0, 0.0, 1.0, 1.0, 1.0]   \n",
       "\n",
       "                                           pos_VADER  \\\n",
       "0                [0.0, 0.0, 0.0, 0.0, 0.0, 0.0, 1.0]   \n",
       "1  [0.0, 0.0, 0.0, 0.0, 0.0, 0.0, 0.0, 0.0, 0.0, ...   \n",
       "2           [0.0, 0.0, 0.0, 0.0, 0.0, 0.0, 1.0, 0.0]   \n",
       "3                [0.0, 1.0, 0.0, 0.0, 0.0, 0.0, 0.0]   \n",
       "4                          [0.0, 0.0, 0.0, 0.0, 0.0]   \n",
       "\n",
       "                                           neg_VADER  \\\n",
       "0                [0.0, 0.0, 0.0, 0.0, 0.0, 0.0, 0.0]   \n",
       "1  [0.0, 0.0, 1.0, 0.0, 0.0, 0.0, 0.0, 1.0, 0.0, ...   \n",
       "2           [0.0, 0.0, 0.0, 1.0, 0.0, 0.0, 0.0, 0.0]   \n",
       "3                [0.0, 0.0, 0.0, 0.0, 0.0, 1.0, 0.0]   \n",
       "4                          [0.0, 1.0, 0.0, 0.0, 0.0]   \n",
       "\n",
       "                                      compound_VADER  \\\n",
       "0             [0.0, 0.0, 0.0, 0.0, 0.0, 0.0, 0.3818]   \n",
       "1  [0.0, 0.0, -0.2732, 0.0, 0.0, 0.0, 0.0, -0.102...   \n",
       "2     [0.0, 0.0, 0.0, -0.3612, 0.0, 0.0, 0.296, 0.0]   \n",
       "3         [0.0, 0.4019, 0.0, 0.0, 0.0, -0.3612, 0.0]   \n",
       "4                      [0.0, -0.5423, 0.0, 0.0, 0.0]   \n",
       "\n",
       "                       mean_VADER  \n",
       "0     [0.0, 0.698, 0.302, 0.3818]  \n",
       "1    [0.333, 0.667, 0.0, -0.3612]  \n",
       "2  [0.258, 0.515, 0.227, -0.0772]  \n",
       "3    [0.245, 0.49, 0.265, 0.0516]  \n",
       "4    [0.467, 0.533, 0.0, -0.5423]  "
      ]
     },
     "execution_count": 18,
     "metadata": {
      "tags": []
     },
     "output_type": "execute_result"
    }
   ],
   "source": [
    "def run_sid(df):\n",
    "  sid = SentimentIntensityAnalyzer()\n",
    "\n",
    "  df['neu_VADER'] = df['clean_tokens'].apply(lambda x: [sid.polarity_scores(item)['neu'] for item in x])\n",
    "  df['pos_VADER'] = df['clean_tokens'].apply(lambda x: [sid.polarity_scores(item)['pos'] for item in x])\n",
    "  df['neg_VADER'] = df['clean_tokens'].apply(lambda x: [sid.polarity_scores(item)['neg'] for item in x])\n",
    "  df['compound_VADER'] = df['clean_tokens'].apply(lambda x: [sid.polarity_scores(item)['compound'] for item in x])\n",
    "  df['mean_VADER'] = df['new_title'].apply(lambda x: [v for k,v in sid.polarity_scores(x).items()])\n",
    "  \n",
    "#   df['neu_VADER'] = df['clean_tokens'].apply(lambda x: np.mean([sid.polarity_scores(item)['neu'] for item in x]))\n",
    "#   df['pos_VADER'] = df['clean_tokens'].apply(lambda x: np.mean([sid.polarity_scores(item)['pos'] for item in x]))\n",
    "#   df['neg_VADER'] = df['clean_tokens'].apply(lambda x: np.mean([sid.polarity_scores(item)['neg'] for item in x]))\n",
    "#   df['compound_VADER'] = df['clean_tokens'].apply(lambda x: np.mean([sid.polarity_scores(item)['compound'] for item in x]))\n",
    "#   df['mean_VADER'] = df[['neu_VADER', 'pos_VADER', 'neg_VADER', 'compound_VADER']].values.tolist()\n",
    "  \n",
    "                                 \n",
    "run_sid(df_train)\n",
    "run_sid(df_test)\n",
    "\n",
    "df_train.head()\n",
    "# np.mean(df_train['neu_VADER'])\n",
    "# [np.mean(item) for item in df_train['neu_VADER']]"
   ]
  },
  {
   "cell_type": "markdown",
   "metadata": {
    "colab_type": "text",
    "id": "2KwglgETsGV3"
   },
   "source": [
    "### Both"
   ]
  },
  {
   "cell_type": "code",
   "execution_count": 0,
   "metadata": {
    "colab": {
     "base_uri": "https://localhost:8080/",
     "height": 204
    },
    "colab_type": "code",
    "executionInfo": {
     "elapsed": 4584,
     "status": "ok",
     "timestamp": 1559848467284,
     "user": {
      "displayName": "Angel Felipe Magnossao de Paula",
      "photoUrl": "",
      "userId": "13628264624700653838"
     },
     "user_tz": 180
    },
    "id": "Cd30mr4hsLGe",
    "outputId": "749d7b05-da55-4e1f-e5a1-04ed260bdb26"
   },
   "outputs": [
    {
     "data": {
      "text/html": [
       "<div>\n",
       "<style scoped>\n",
       "    .dataframe tbody tr th:only-of-type {\n",
       "        vertical-align: middle;\n",
       "    }\n",
       "\n",
       "    .dataframe tbody tr th {\n",
       "        vertical-align: top;\n",
       "    }\n",
       "\n",
       "    .dataframe thead th {\n",
       "        text-align: right;\n",
       "    }\n",
       "</style>\n",
       "<table border=\"1\" class=\"dataframe\">\n",
       "  <thead>\n",
       "    <tr style=\"text-align: right;\">\n",
       "      <th></th>\n",
       "      <th>company</th>\n",
       "      <th>id</th>\n",
       "      <th>sentiment</th>\n",
       "      <th>title</th>\n",
       "      <th>quantile</th>\n",
       "      <th>clean_tokens</th>\n",
       "      <th>new_title</th>\n",
       "      <th>LMDVector</th>\n",
       "      <th>mean_LMD</th>\n",
       "      <th>neu_VADER</th>\n",
       "      <th>pos_VADER</th>\n",
       "      <th>neg_VADER</th>\n",
       "      <th>compound_VADER</th>\n",
       "      <th>mean_VADER</th>\n",
       "      <th>mean_VADER_LMD</th>\n",
       "    </tr>\n",
       "  </thead>\n",
       "  <tbody>\n",
       "    <tr>\n",
       "      <th>0</th>\n",
       "      <td>Morrisons</td>\n",
       "      <td>2</td>\n",
       "      <td>0.430</td>\n",
       "      <td>Morrisons book second consecutive quarter of s...</td>\n",
       "      <td>8</td>\n",
       "      <td>[company, book, second, consecutive, quarter, ...</td>\n",
       "      <td>company book second consecutive quarter sales ...</td>\n",
       "      <td>[[0, 0, 0, 0, 0, 0, 0], [0, 0, 0, 0, 0, 0, 0],...</td>\n",
       "      <td>[0.0, 0.0, 0.0, 0.0, 0.0, 0.0, 0.0]</td>\n",
       "      <td>[1.0, 1.0, 1.0, 1.0, 1.0, 1.0, 0.0]</td>\n",
       "      <td>[0.0, 0.0, 0.0, 0.0, 0.0, 0.0, 1.0]</td>\n",
       "      <td>[0.0, 0.0, 0.0, 0.0, 0.0, 0.0, 0.0]</td>\n",
       "      <td>[0.0, 0.0, 0.0, 0.0, 0.0, 0.0, 0.3818]</td>\n",
       "      <td>[0.0, 0.698, 0.302, 0.3818]</td>\n",
       "      <td>[0.0, 0.0, 0.0, 0.0, 0.0, 0.0, 0.0, 0.0, 0.698...</td>\n",
       "    </tr>\n",
       "    <tr>\n",
       "      <th>1</th>\n",
       "      <td>IMI</td>\n",
       "      <td>3</td>\n",
       "      <td>-0.344</td>\n",
       "      <td>IMI posts drop in first-quarter organic revenu...</td>\n",
       "      <td>2</td>\n",
       "      <td>[company, posts, drop, first-quarter, organic,...</td>\n",
       "      <td>company posts drop first-quarter organic reven...</td>\n",
       "      <td>[[0, 0, 0, 0, 0, 0, 0], [0, 0, 0, 0, 0, 0, 0],...</td>\n",
       "      <td>[0.1, 0.0, 0.0, 0.0, 0.0, 0.0, 0.1]</td>\n",
       "      <td>[1.0, 1.0, 0.0, 1.0, 1.0, 1.0, 0.0, 0.0, 1.0, ...</td>\n",
       "      <td>[0.0, 0.0, 0.0, 0.0, 0.0, 0.0, 0.0, 0.0, 0.0, ...</td>\n",
       "      <td>[0.0, 0.0, 1.0, 0.0, 0.0, 0.0, 0.0, 1.0, 0.0, ...</td>\n",
       "      <td>[0.0, 0.0, -0.2732, 0.0, 0.0, 0.0, 0.0, -0.102...</td>\n",
       "      <td>[0.333, 0.667, 0.0, -0.3612]</td>\n",
       "      <td>[0.1, 0.0, 0.0, 0.0, 0.0, 0.0, 0.1, 0.333, 0.6...</td>\n",
       "    </tr>\n",
       "    <tr>\n",
       "      <th>2</th>\n",
       "      <td>Glencore</td>\n",
       "      <td>4</td>\n",
       "      <td>0.340</td>\n",
       "      <td>Glencore to refinance its short-term debt earl...</td>\n",
       "      <td>7</td>\n",
       "      <td>[company, refinance, short-term, debt, early, ...</td>\n",
       "      <td>company refinance short-term debt early , shar...</td>\n",
       "      <td>[[0, 0, 0, 0, 0, 0, 0], [0, 0, 0, 0, 0, 0, 0],...</td>\n",
       "      <td>[0.0, 0.0, 0.0, 0.0, 0.0, 0.0, 0.0]</td>\n",
       "      <td>[1.0, 1.0, 1.0, 0.0, 1.0, 0.0, 0.0, 1.0]</td>\n",
       "      <td>[0.0, 0.0, 0.0, 0.0, 0.0, 0.0, 1.0, 0.0]</td>\n",
       "      <td>[0.0, 0.0, 0.0, 1.0, 0.0, 0.0, 0.0, 0.0]</td>\n",
       "      <td>[0.0, 0.0, 0.0, -0.3612, 0.0, 0.0, 0.296, 0.0]</td>\n",
       "      <td>[0.258, 0.515, 0.227, -0.0772]</td>\n",
       "      <td>[0.0, 0.0, 0.0, 0.0, 0.0, 0.0, 0.0, 0.258, 0.5...</td>\n",
       "    </tr>\n",
       "    <tr>\n",
       "      <th>3</th>\n",
       "      <td>Ryanair</td>\n",
       "      <td>5</td>\n",
       "      <td>0.259</td>\n",
       "      <td>EasyJet attracts more passengers in June but s...</td>\n",
       "      <td>6</td>\n",
       "      <td>[easyjet, attracts, passengers, june, still, l...</td>\n",
       "      <td>easyjet attracts passengers june still lags co...</td>\n",
       "      <td>[[0, 0, 0, 0, 0, 0, 0], [0, 0, 0, 0, 0, 0, 0],...</td>\n",
       "      <td>[0.14285714285714285, 0.0, 0.0, 0.0, 0.0, 0.0,...</td>\n",
       "      <td>[1.0, 0.0, 1.0, 1.0, 1.0, 0.0, 1.0]</td>\n",
       "      <td>[0.0, 1.0, 0.0, 0.0, 0.0, 0.0, 0.0]</td>\n",
       "      <td>[0.0, 0.0, 0.0, 0.0, 0.0, 1.0, 0.0]</td>\n",
       "      <td>[0.0, 0.4019, 0.0, 0.0, 0.0, -0.3612, 0.0]</td>\n",
       "      <td>[0.245, 0.49, 0.265, 0.0516]</td>\n",
       "      <td>[0.14285714285714285, 0.0, 0.0, 0.0, 0.0, 0.0,...</td>\n",
       "    </tr>\n",
       "    <tr>\n",
       "      <th>4</th>\n",
       "      <td>Barclays</td>\n",
       "      <td>6</td>\n",
       "      <td>-0.231</td>\n",
       "      <td>Barclays 'bad bank' chief to step down</td>\n",
       "      <td>3</td>\n",
       "      <td>[company, bad, bank, chief, step]</td>\n",
       "      <td>company bad bank chief step</td>\n",
       "      <td>[[0, 0, 0, 0, 0, 0, 0], [1, 0, 0, 0, 0, 0, 0],...</td>\n",
       "      <td>[0.2, 0.0, 0.0, 0.0, 0.0, 0.0, 0.0]</td>\n",
       "      <td>[1.0, 0.0, 1.0, 1.0, 1.0]</td>\n",
       "      <td>[0.0, 0.0, 0.0, 0.0, 0.0]</td>\n",
       "      <td>[0.0, 1.0, 0.0, 0.0, 0.0]</td>\n",
       "      <td>[0.0, -0.5423, 0.0, 0.0, 0.0]</td>\n",
       "      <td>[0.467, 0.533, 0.0, -0.5423]</td>\n",
       "      <td>[0.2, 0.0, 0.0, 0.0, 0.0, 0.0, 0.0, 0.467, 0.5...</td>\n",
       "    </tr>\n",
       "  </tbody>\n",
       "</table>\n",
       "</div>"
      ],
      "text/plain": [
       "     company  id  sentiment  \\\n",
       "0  Morrisons   2      0.430   \n",
       "1        IMI   3     -0.344   \n",
       "2   Glencore   4      0.340   \n",
       "3    Ryanair   5      0.259   \n",
       "4   Barclays   6     -0.231   \n",
       "\n",
       "                                               title quantile  \\\n",
       "0  Morrisons book second consecutive quarter of s...        8   \n",
       "1  IMI posts drop in first-quarter organic revenu...        2   \n",
       "2  Glencore to refinance its short-term debt earl...        7   \n",
       "3  EasyJet attracts more passengers in June but s...        6   \n",
       "4             Barclays 'bad bank' chief to step down        3   \n",
       "\n",
       "                                        clean_tokens  \\\n",
       "0  [company, book, second, consecutive, quarter, ...   \n",
       "1  [company, posts, drop, first-quarter, organic,...   \n",
       "2  [company, refinance, short-term, debt, early, ...   \n",
       "3  [easyjet, attracts, passengers, june, still, l...   \n",
       "4                  [company, bad, bank, chief, step]   \n",
       "\n",
       "                                           new_title  \\\n",
       "0  company book second consecutive quarter sales ...   \n",
       "1  company posts drop first-quarter organic reven...   \n",
       "2  company refinance short-term debt early , shar...   \n",
       "3  easyjet attracts passengers june still lags co...   \n",
       "4                        company bad bank chief step   \n",
       "\n",
       "                                           LMDVector  \\\n",
       "0  [[0, 0, 0, 0, 0, 0, 0], [0, 0, 0, 0, 0, 0, 0],...   \n",
       "1  [[0, 0, 0, 0, 0, 0, 0], [0, 0, 0, 0, 0, 0, 0],...   \n",
       "2  [[0, 0, 0, 0, 0, 0, 0], [0, 0, 0, 0, 0, 0, 0],...   \n",
       "3  [[0, 0, 0, 0, 0, 0, 0], [0, 0, 0, 0, 0, 0, 0],...   \n",
       "4  [[0, 0, 0, 0, 0, 0, 0], [1, 0, 0, 0, 0, 0, 0],...   \n",
       "\n",
       "                                            mean_LMD  \\\n",
       "0                [0.0, 0.0, 0.0, 0.0, 0.0, 0.0, 0.0]   \n",
       "1                [0.1, 0.0, 0.0, 0.0, 0.0, 0.0, 0.1]   \n",
       "2                [0.0, 0.0, 0.0, 0.0, 0.0, 0.0, 0.0]   \n",
       "3  [0.14285714285714285, 0.0, 0.0, 0.0, 0.0, 0.0,...   \n",
       "4                [0.2, 0.0, 0.0, 0.0, 0.0, 0.0, 0.0]   \n",
       "\n",
       "                                           neu_VADER  \\\n",
       "0                [1.0, 1.0, 1.0, 1.0, 1.0, 1.0, 0.0]   \n",
       "1  [1.0, 1.0, 0.0, 1.0, 1.0, 1.0, 0.0, 0.0, 1.0, ...   \n",
       "2           [1.0, 1.0, 1.0, 0.0, 1.0, 0.0, 0.0, 1.0]   \n",
       "3                [1.0, 0.0, 1.0, 1.0, 1.0, 0.0, 1.0]   \n",
       "4                          [1.0, 0.0, 1.0, 1.0, 1.0]   \n",
       "\n",
       "                                           pos_VADER  \\\n",
       "0                [0.0, 0.0, 0.0, 0.0, 0.0, 0.0, 1.0]   \n",
       "1  [0.0, 0.0, 0.0, 0.0, 0.0, 0.0, 0.0, 0.0, 0.0, ...   \n",
       "2           [0.0, 0.0, 0.0, 0.0, 0.0, 0.0, 1.0, 0.0]   \n",
       "3                [0.0, 1.0, 0.0, 0.0, 0.0, 0.0, 0.0]   \n",
       "4                          [0.0, 0.0, 0.0, 0.0, 0.0]   \n",
       "\n",
       "                                           neg_VADER  \\\n",
       "0                [0.0, 0.0, 0.0, 0.0, 0.0, 0.0, 0.0]   \n",
       "1  [0.0, 0.0, 1.0, 0.0, 0.0, 0.0, 0.0, 1.0, 0.0, ...   \n",
       "2           [0.0, 0.0, 0.0, 1.0, 0.0, 0.0, 0.0, 0.0]   \n",
       "3                [0.0, 0.0, 0.0, 0.0, 0.0, 1.0, 0.0]   \n",
       "4                          [0.0, 1.0, 0.0, 0.0, 0.0]   \n",
       "\n",
       "                                      compound_VADER  \\\n",
       "0             [0.0, 0.0, 0.0, 0.0, 0.0, 0.0, 0.3818]   \n",
       "1  [0.0, 0.0, -0.2732, 0.0, 0.0, 0.0, 0.0, -0.102...   \n",
       "2     [0.0, 0.0, 0.0, -0.3612, 0.0, 0.0, 0.296, 0.0]   \n",
       "3         [0.0, 0.4019, 0.0, 0.0, 0.0, -0.3612, 0.0]   \n",
       "4                      [0.0, -0.5423, 0.0, 0.0, 0.0]   \n",
       "\n",
       "                       mean_VADER  \\\n",
       "0     [0.0, 0.698, 0.302, 0.3818]   \n",
       "1    [0.333, 0.667, 0.0, -0.3612]   \n",
       "2  [0.258, 0.515, 0.227, -0.0772]   \n",
       "3    [0.245, 0.49, 0.265, 0.0516]   \n",
       "4    [0.467, 0.533, 0.0, -0.5423]   \n",
       "\n",
       "                                      mean_VADER_LMD  \n",
       "0  [0.0, 0.0, 0.0, 0.0, 0.0, 0.0, 0.0, 0.0, 0.698...  \n",
       "1  [0.1, 0.0, 0.0, 0.0, 0.0, 0.0, 0.1, 0.333, 0.6...  \n",
       "2  [0.0, 0.0, 0.0, 0.0, 0.0, 0.0, 0.0, 0.258, 0.5...  \n",
       "3  [0.14285714285714285, 0.0, 0.0, 0.0, 0.0, 0.0,...  \n",
       "4  [0.2, 0.0, 0.0, 0.0, 0.0, 0.0, 0.0, 0.467, 0.5...  "
      ]
     },
     "execution_count": 19,
     "metadata": {
      "tags": []
     },
     "output_type": "execute_result"
    }
   ],
   "source": [
    "def join_vader_LMD(df):\n",
    "  df['mean_VADER_LMD'] = [np.hstack([x,y]) for x, y in zip(df['mean_LMD'], df['mean_VADER'])]\n",
    "\n",
    "join_vader_LMD(df_train)\n",
    "join_vader_LMD(df_test)\n",
    "\n",
    "df_train.head()"
   ]
  },
  {
   "cell_type": "markdown",
   "metadata": {
    "colab_type": "text",
    "id": "oKNfykDiwp76"
   },
   "source": [
    "## GloVe"
   ]
  },
  {
   "cell_type": "code",
   "execution_count": 0,
   "metadata": {
    "colab": {},
    "colab_type": "code",
    "id": "nsTrK_2z9b-i"
   },
   "outputs": [],
   "source": [
    "# EMBEDDING_DIM = 300\n",
    "\n",
    "# TODO: use: vocab_size = max(MAX_VOCAB_SIZE, len(word_index)) + 1"
   ]
  },
  {
   "cell_type": "code",
   "execution_count": 0,
   "metadata": {
    "colab": {},
    "colab_type": "code",
    "id": "gCkEUlw1DL2v"
   },
   "outputs": [],
   "source": [
    "def load_embedding(emb_dim):\n",
    "  \n",
    "  # load the whole embedding into memory\n",
    "  embeddings_index = dict()\n",
    "  \n",
    "  if not os.path.exists(resources + 'glove.6B.zip'):\n",
    "    ! wget http://nlp.stanford.edu/data/glove.6B.zip -P /resources/\n",
    "  if not os.path.exists(resources + 'glove.6B.' + str(emb_dim) + 'd.txt'):\n",
    "    ! unzip resources/glove.6B.zip -d resources\n",
    "  \n",
    "  f = open(resources + 'glove.6B.' + str(emb_dim) + 'd.txt', 'r', encoding=\"utf8\")\n",
    "  for line in f:\n",
    "      values = line.split()\n",
    "      word = values[0]\n",
    "      coefs = np.asarray(values[1:], dtype='float32')\n",
    "      embeddings_index[word] = coefs\n",
    "  f.close()\n",
    "  \n",
    "  return embeddings_index"
   ]
  },
  {
   "cell_type": "code",
   "execution_count": 0,
   "metadata": {
    "colab": {},
    "colab_type": "code",
    "id": "tcmZ6KVgwp78"
   },
   "outputs": [],
   "source": [
    "# create a weight matrix for words in training docs\n",
    "def get_embedding_matrix(emb_dim, vocab_size, input_length, tokenizer, embeddings_index):\n",
    "  vocab_size = min(MAX_VOCAB_SIZE, len(tokenizer.word_index)) + 1 # Adding 1 because of reserved 0 index\n",
    "  embedding_matrix = np.zeros((vocab_size, emb_dim))\n",
    "  for word, i in tokenizer.word_index.items():\n",
    "      embedding_vector = embeddings_index.get(word)\n",
    "      if (embedding_vector is not None):\n",
    "          embedding_matrix[i] = embedding_vector\n",
    "\n",
    "  return embedding_matrix\n",
    "\n",
    "\n",
    "# banna, maca, tokenizer = get_tok_sentences(df_train['new_title'], df_test['new_title'])\n",
    "# get_embedding_matrix(300, MAX_VOCAB_SIZE, True, MAX_SEQUENCE_LENGTH, tokenizer).shape[0]"
   ]
  },
  {
   "cell_type": "markdown",
   "metadata": {
    "colab_type": "text",
    "id": "buH-SkpPpdPm"
   },
   "source": [
    "# Models"
   ]
  },
  {
   "cell_type": "markdown",
   "metadata": {
    "colab_type": "text",
    "id": "DAqcBAvnwp8A"
   },
   "source": [
    "## CNN Model"
   ]
  },
  {
   "cell_type": "code",
   "execution_count": 0,
   "metadata": {
    "colab": {},
    "colab_type": "code",
    "id": "ZRqZgB3-hY7t"
   },
   "outputs": [],
   "source": [
    "def cos_sim(y_true, y_pred):\n",
    "#   x = K.l2_normalize(y_true, axis=-1)\n",
    "#   y = K.l2_normalize(y_pred, axis=-1)\n",
    "#   return K.mean(x * y, axis=-1, keepdims=True)\n",
    "  return cosine_similarity(y_true, y_pred)\n",
    "\n",
    "metrics = ['cosine_proximity']\n",
    "# dropout = 0.3\n",
    "# loss = 'mse'"
   ]
  },
  {
   "cell_type": "code",
   "execution_count": 0,
   "metadata": {
    "colab": {},
    "colab_type": "code",
    "id": "2B9necCNwp8D"
   },
   "outputs": [],
   "source": [
    "# callback for time: https://stackoverflow.com/questions/43178668/record-the-computation-time-for-each-epoch-in-keras-during-model-fit\n",
    "# or maybe just use keras LambdaCallback\n",
    "\n",
    "class TimeHistory(callbacks.Callback):  \n",
    "  def on_epoch_begin(self, epoch, logs={}):\n",
    "    self.epoch_time_start = time.time()\n",
    "\n",
    "  def on_epoch_end(self, epoch, logs={}):\n",
    "    logs['time_passed'] = time.time() - self.epoch_time_start\n",
    "\n",
    "def callback_functions(nome_log):\n",
    "  time_callback = TimeHistory()\n",
    "  csv_logger = callbacks.CSVLogger(results_cnn + nome_log + '.csv', separator=';', append=True)\n",
    "#     tensorboard_callback = callbacks.TensorBoard(nome_log, histogram_freq=1)\n",
    "#     best_model = callbacks.ModelCheckpoint(results_cnn + nome_log + '.h5', monitor='val_loss', verbose=0, save_best_only=True, mode='auto')\n",
    "\n",
    "  return [time_callback, csv_logger]"
   ]
  },
  {
   "cell_type": "code",
   "execution_count": 0,
   "metadata": {
    "colab": {},
    "colab_type": "code",
    "id": "DeUV9qR9wp8H"
   },
   "outputs": [],
   "source": [
    "def create_model_2Conv_1Dense(num_filters_1, num_filters_2, size_filters_1, size_filters_2, number_dense, dropout_value, embedding_matrix, emb_layer_trainable):\n",
    "    \n",
    "    # first input model\n",
    "    visible1 = layers.Input(shape=(MAX_SEQUENCE_LENGTH,), name='Word_Seq')\n",
    "    embedding = layers.Embedding(embedding_matrix.shape[0], embedding_matrix.shape[1], weights=[embedding_matrix], input_length=MAX_SEQUENCE_LENGTH, trainable=emb_layer_trainable)(visible1)\n",
    "#     embedding = Embedding(vocab_size, EMBEDDING_DIM, weights=[embedding_matrix], input_length=MAX_SEQUENCE_LENGTH, trainable=True)(visible1)\n",
    "#     embedding = embedding_layer(visible1)\n",
    "    conv1 = layers.Conv1D(num_filters_1, size_filters_1, padding='same', activation='relu')(embedding)\n",
    "    conv2 = layers.Conv1D(num_filters_2, size_filters_2, padding='same', activation='relu')(conv1)\n",
    "    pool1 = layers.GlobalMaxPooling1D()(conv2)\n",
    "    flat1 = pool1\n",
    "    \n",
    "    # second input model\n",
    "#     visible2 = layers.Input(shape=(np.array(df_train['mean_VADER_LMD'].tolist()).shape[1],), name='Lexical')\n",
    "    visible2 = layers.Input(shape=(np.array(df_train['mean_VADER'].tolist()).shape[1],), name='Lexical')\n",
    "    flat2 = visible2\n",
    "\n",
    "    # merge input models\n",
    "    merge = layers.concatenate([flat1, flat2])\n",
    "#     merge = flat1\n",
    "    \n",
    "    # interpretation model\n",
    "    dropout1 = layers.Dropout(dropout_value)(merge)\n",
    "#     dropout1 = layers.Dropout(dropout_value)(flat1)\n",
    "    hidden1 = layers.Dense(number_dense, activation='relu', kernel_regularizer=regularizers.l2(0.01))(dropout1)\n",
    "    dropout2 = layers.Dropout(dropout_value)(hidden1)\n",
    "    output = layers.Dense(1, activation='tanh')(dropout2)\n",
    "    model = Model(inputs=[visible1, visible2], outputs=output)\n",
    "#     model = Model(inputs=[visible1], outputs=output)\n",
    "\n",
    "    return model"
   ]
  },
  {
   "cell_type": "code",
   "execution_count": 0,
   "metadata": {
    "colab": {},
    "colab_type": "code",
    "id": "XMj2FWnlwp8K"
   },
   "outputs": [],
   "source": [
    "def train_model(model, X, Y, batch_size, epochs_value, nome_log, X_cv, Y_cv):\n",
    "    model.compile(optimizer='adam', loss='mean_squared_error', metrics=metrics)\n",
    "    \n",
    "    return model.fit(X, Y, batch_size,\n",
    "                     validation_data=(X_cv, Y_cv),\n",
    "                     epochs=epochs_value,\n",
    "                     verbose=0,\n",
    "                     callbacks=callback_functions(nome_log)\n",
    "                    )"
   ]
  },
  {
   "cell_type": "code",
   "execution_count": 0,
   "metadata": {
    "colab": {},
    "colab_type": "code",
    "id": "rPhI1NJswp8N"
   },
   "outputs": [],
   "source": [
    "def save_model(model, trained_model_history, model_name):\n",
    "    \n",
    "#     model.save(model_name + '.h5')\n",
    "    trained_model = trained_model_history\n",
    "    \n",
    "    plt.figure(1)\n",
    "    plt.plot([abs(v) for v in trained_model.history['loss']])\n",
    "    plt.plot([abs(v) for v in trained_model.history['val_loss']])\n",
    "    plt.plot([abs(v) for v in trained_model.history['cosine_proximity']])\n",
    "    plt.plot([abs(v) for v in trained_model.history['val_cosine_proximity']])\n",
    "    plt.title('model mean squared error')\n",
    "    plt.ylabel('mean squared error')\n",
    "    plt.xlabel('epoch')\n",
    "    plt.legend(['mse_train', 'mse_test', 'cos_sim_train', 'cos_sim_test'], loc='upper left')\n",
    "    plt.savefig(results_cnn + model_name + '_mse.png')\n",
    "    plt.close()"
   ]
  },
  {
   "cell_type": "code",
   "execution_count": 0,
   "metadata": {
    "colab": {},
    "colab_type": "code",
    "id": "cqcHcjJOwp8R"
   },
   "outputs": [],
   "source": [
    "def evaluate_model(model, X, Y_expected):\n",
    "    input = X\n",
    "    output = np.array(model.predict(input))\n",
    "    expected = np.array(Y_expected)\n",
    "\n",
    "    dot = np.dot(expected, output)\n",
    "    output_mod = np.linalg.norm(output)\n",
    "    expected_mod = np.linalg.norm(expected)\n",
    "    cos = dot / output_mod / expected_mod\n",
    "\n",
    "    final_score = cos\n",
    "    \n",
    "    return final_score"
   ]
  },
  {
   "cell_type": "markdown",
   "metadata": {
    "colab_type": "text",
    "id": "tP6QpoR77w2y"
   },
   "source": [
    "## K-fold on Train"
   ]
  },
  {
   "cell_type": "code",
   "execution_count": 0,
   "metadata": {
    "colab": {
     "base_uri": "https://localhost:8080/",
     "height": 1626
    },
    "colab_type": "code",
    "executionInfo": {
     "elapsed": 207485,
     "status": "error",
     "timestamp": 1559848670252,
     "user": {
      "displayName": "Angel Felipe Magnossao de Paula",
      "photoUrl": "",
      "userId": "13628264624700653838"
     },
     "user_tz": 180
    },
    "id": "aMRsC6M3wp8T",
    "outputId": "0468bf5c-51e1-4469-9159-6679c4d3fec9"
   },
   "outputs": [
    {
     "name": "stdout",
     "output_type": "stream",
     "text": [
      "WARNING:tensorflow:From /home/xicocaio/anaconda3/envs/gairts/lib/python3.6/site-packages/tensorflow/python/framework/op_def_library.py:263: colocate_with (from tensorflow.python.framework.ops) is deprecated and will be removed in a future version.\n",
      "Instructions for updating:\n",
      "Colocations handled automatically by placer.\n",
      "WARNING:tensorflow:From /home/xicocaio/anaconda3/envs/gairts/lib/python3.6/site-packages/keras/backend/tensorflow_backend.py:3445: calling dropout (from tensorflow.python.ops.nn_ops) with keep_prob is deprecated and will be removed in a future version.\n",
      "Instructions for updating:\n",
      "Please use `rate` instead of `keep_prob`. Rate should be set to `rate = 1 - keep_prob`.\n",
      "WARNING:tensorflow:From /home/xicocaio/anaconda3/envs/gairts/lib/python3.6/site-packages/tensorflow/python/ops/math_ops.py:3066: to_int32 (from tensorflow.python.ops.math_ops) is deprecated and will be removed in a future version.\n",
      "Instructions for updating:\n",
      "Use tf.cast instead.\n",
      "WARNING:tensorflow:From /home/xicocaio/anaconda3/envs/gairts/lib/python3.6/site-packages/tensorflow/python/ops/math_grad.py:102: div (from tensorflow.python.ops.math_ops) is deprecated and will be removed in a future version.\n",
      "Instructions for updating:\n",
      "Deprecated in favor of operator or tf.math.divide.\n",
      "ID: 10000, Cos Sim Mean: 0.5291172382756967, Cos Sim Std: 0.045111137349159426, MSE Mean: 0.08739698680500621, MSE Std: 0.00863646798007651, Training Time: 0:00:04.446054, Batch: 32, Num Filters: 384, Size Filters:4, Num Dense: 150, Dropout: 0.3\n",
      "ID: 10001, Cos Sim Mean: 0.5429349720344977, Cos Sim Std: 0.02964163579319634, MSE Mean: 0.08780038970403282, MSE Std: 0.0075164390991760395, Training Time: 0:00:04.261613, Batch: 32, Num Filters: 384, Size Filters:4, Num Dense: 150, Dropout: 0.4\n",
      "ID: 10002, Cos Sim Mean: 0.5251635379534669, Cos Sim Std: 0.04434596002418087, MSE Mean: 0.08864605092730275, MSE Std: 0.007706294474408567, Training Time: 0:00:04.309469, Batch: 32, Num Filters: 384, Size Filters:4, Num Dense: 150, Dropout: 0.5\n",
      "ID: 10003, Cos Sim Mean: 0.5237314602011441, Cos Sim Std: 0.031910444764288975, MSE Mean: 0.0867319493152822, MSE Std: 0.005560612303627665, Training Time: 0:00:04.274473, Batch: 32, Num Filters: 384, Size Filters:4, Num Dense: 100, Dropout: 0.3\n",
      "ID: 10004, Cos Sim Mean: 0.5274088432280872, Cos Sim Std: 0.05354918756758425, MSE Mean: 0.08697332167452741, MSE Std: 0.005942894006301572, Training Time: 0:00:04.279147, Batch: 32, Num Filters: 384, Size Filters:4, Num Dense: 100, Dropout: 0.4\n",
      "ID: 10005, Cos Sim Mean: 0.5186402860918486, Cos Sim Std: 0.05166535339297803, MSE Mean: 0.08575121083245865, MSE Std: 0.005052913877035805, Training Time: 0:00:04.253783, Batch: 32, Num Filters: 384, Size Filters:4, Num Dense: 100, Dropout: 0.5\n",
      "ID: 10006, Cos Sim Mean: 0.5269797107821736, Cos Sim Std: 0.05011678386844408, MSE Mean: 0.08635901374646168, MSE Std: 0.0067841140667734496, Training Time: 0:00:04.247899, Batch: 32, Num Filters: 384, Size Filters:4, Num Dense: 50, Dropout: 0.3\n",
      "ID: 10007, Cos Sim Mean: 0.5115682363795669, Cos Sim Std: 0.05222231703667061, MSE Mean: 0.08769928548513929, MSE Std: 0.00670941435138143, Training Time: 0:00:04.308931, Batch: 32, Num Filters: 384, Size Filters:4, Num Dense: 50, Dropout: 0.4\n"
     ]
    },
    {
     "ename": "KeyboardInterrupt",
     "evalue": "ignored",
     "output_type": "error",
     "traceback": [
      "\u001b[0;31m---------------------------------------------------------------------------\u001b[0m",
      "\u001b[0;31mKeyboardInterrupt\u001b[0m                         Traceback (most recent call last)",
      "\u001b[0;32m<ipython-input-31-e78a55633203>\u001b[0m in \u001b[0;36m<module>\u001b[0;34m\u001b[0m\n\u001b[1;32m     48\u001b[0m \u001b[0;34m\u001b[0m\u001b[0m\n\u001b[1;32m     49\u001b[0m                         \u001b[0minit\u001b[0m \u001b[0;34m=\u001b[0m \u001b[0mdatetime\u001b[0m\u001b[0;34m.\u001b[0m\u001b[0mdatetime\u001b[0m\u001b[0;34m.\u001b[0m\u001b[0mnow\u001b[0m\u001b[0;34m(\u001b[0m\u001b[0;34m)\u001b[0m\u001b[0;34m\u001b[0m\u001b[0;34m\u001b[0m\u001b[0m\n\u001b[0;32m---> 50\u001b[0;31m                         \u001b[0mtrained\u001b[0m \u001b[0;34m=\u001b[0m \u001b[0mtrain_model\u001b[0m\u001b[0;34m(\u001b[0m\u001b[0mcnn\u001b[0m\u001b[0;34m,\u001b[0m \u001b[0mnn_input_train\u001b[0m\u001b[0;34m,\u001b[0m \u001b[0mY_train\u001b[0m\u001b[0;34m,\u001b[0m \u001b[0mbatch_size\u001b[0m\u001b[0;34m,\u001b[0m \u001b[0mnumber_epochs\u001b[0m\u001b[0;34m,\u001b[0m \u001b[0mmodel_name\u001b[0m\u001b[0;34m,\u001b[0m \u001b[0mnn_input_val\u001b[0m\u001b[0;34m,\u001b[0m \u001b[0mY_val\u001b[0m\u001b[0;34m)\u001b[0m\u001b[0;34m\u001b[0m\u001b[0;34m\u001b[0m\u001b[0m\n\u001b[0m\u001b[1;32m     51\u001b[0m                         \u001b[0mtraining_time\u001b[0m \u001b[0;34m=\u001b[0m \u001b[0;34m(\u001b[0m\u001b[0mdatetime\u001b[0m\u001b[0;34m.\u001b[0m\u001b[0mdatetime\u001b[0m\u001b[0;34m.\u001b[0m\u001b[0mnow\u001b[0m\u001b[0;34m(\u001b[0m\u001b[0;34m)\u001b[0m \u001b[0;34m-\u001b[0m \u001b[0minit\u001b[0m\u001b[0;34m)\u001b[0m\u001b[0;34m\u001b[0m\u001b[0;34m\u001b[0m\u001b[0m\n\u001b[1;32m     52\u001b[0m                         \u001b[0mcvscores_mse\u001b[0m\u001b[0;34m.\u001b[0m\u001b[0mappend\u001b[0m\u001b[0;34m(\u001b[0m\u001b[0mtrained\u001b[0m\u001b[0;34m.\u001b[0m\u001b[0mhistory\u001b[0m\u001b[0;34m[\u001b[0m\u001b[0;34m'val_loss'\u001b[0m\u001b[0;34m]\u001b[0m\u001b[0;34m[\u001b[0m\u001b[0;34m-\u001b[0m\u001b[0;36m1\u001b[0m\u001b[0;34m]\u001b[0m\u001b[0;34m)\u001b[0m\u001b[0;34m\u001b[0m\u001b[0;34m\u001b[0m\u001b[0m\n",
      "\u001b[0;32m<ipython-input-28-ef0baa1fc87f>\u001b[0m in \u001b[0;36mtrain_model\u001b[0;34m(model, X, Y, batch_size, epochs_value, nome_log, X_cv, Y_cv)\u001b[0m\n\u001b[1;32m      6\u001b[0m                      \u001b[0mepochs\u001b[0m\u001b[0;34m=\u001b[0m\u001b[0mepochs_value\u001b[0m\u001b[0;34m,\u001b[0m\u001b[0;34m\u001b[0m\u001b[0;34m\u001b[0m\u001b[0m\n\u001b[1;32m      7\u001b[0m                      \u001b[0mverbose\u001b[0m\u001b[0;34m=\u001b[0m\u001b[0;36m0\u001b[0m\u001b[0;34m,\u001b[0m\u001b[0;34m\u001b[0m\u001b[0;34m\u001b[0m\u001b[0m\n\u001b[0;32m----> 8\u001b[0;31m                      \u001b[0mcallbacks\u001b[0m\u001b[0;34m=\u001b[0m\u001b[0mcallback_functions\u001b[0m\u001b[0;34m(\u001b[0m\u001b[0mnome_log\u001b[0m\u001b[0;34m)\u001b[0m\u001b[0;34m\u001b[0m\u001b[0;34m\u001b[0m\u001b[0m\n\u001b[0m\u001b[1;32m      9\u001b[0m                     )\n",
      "\u001b[0;32m~/anaconda3/envs/gairts/lib/python3.6/site-packages/keras/engine/training.py\u001b[0m in \u001b[0;36mfit\u001b[0;34m(self, x, y, batch_size, epochs, verbose, callbacks, validation_split, validation_data, shuffle, class_weight, sample_weight, initial_epoch, steps_per_epoch, validation_steps, **kwargs)\u001b[0m\n\u001b[1;32m   1037\u001b[0m                                         \u001b[0minitial_epoch\u001b[0m\u001b[0;34m=\u001b[0m\u001b[0minitial_epoch\u001b[0m\u001b[0;34m,\u001b[0m\u001b[0;34m\u001b[0m\u001b[0;34m\u001b[0m\u001b[0m\n\u001b[1;32m   1038\u001b[0m                                         \u001b[0msteps_per_epoch\u001b[0m\u001b[0;34m=\u001b[0m\u001b[0msteps_per_epoch\u001b[0m\u001b[0;34m,\u001b[0m\u001b[0;34m\u001b[0m\u001b[0;34m\u001b[0m\u001b[0m\n\u001b[0;32m-> 1039\u001b[0;31m                                         validation_steps=validation_steps)\n\u001b[0m\u001b[1;32m   1040\u001b[0m \u001b[0;34m\u001b[0m\u001b[0m\n\u001b[1;32m   1041\u001b[0m     def evaluate(self, x=None, y=None,\n",
      "\u001b[0;32m~/anaconda3/envs/gairts/lib/python3.6/site-packages/keras/engine/training_arrays.py\u001b[0m in \u001b[0;36mfit_loop\u001b[0;34m(model, f, ins, out_labels, batch_size, epochs, verbose, callbacks, val_f, val_ins, shuffle, callback_metrics, initial_epoch, steps_per_epoch, validation_steps)\u001b[0m\n\u001b[1;32m    210\u001b[0m                         val_outs = test_loop(model, val_f, val_ins,\n\u001b[1;32m    211\u001b[0m                                              \u001b[0mbatch_size\u001b[0m\u001b[0;34m=\u001b[0m\u001b[0mbatch_size\u001b[0m\u001b[0;34m,\u001b[0m\u001b[0;34m\u001b[0m\u001b[0;34m\u001b[0m\u001b[0m\n\u001b[0;32m--> 212\u001b[0;31m                                              verbose=0)\n\u001b[0m\u001b[1;32m    213\u001b[0m                         \u001b[0mval_outs\u001b[0m \u001b[0;34m=\u001b[0m \u001b[0mto_list\u001b[0m\u001b[0;34m(\u001b[0m\u001b[0mval_outs\u001b[0m\u001b[0;34m)\u001b[0m\u001b[0;34m\u001b[0m\u001b[0;34m\u001b[0m\u001b[0m\n\u001b[1;32m    214\u001b[0m                         \u001b[0;31m# Same labels assumed.\u001b[0m\u001b[0;34m\u001b[0m\u001b[0;34m\u001b[0m\u001b[0;34m\u001b[0m\u001b[0m\n",
      "\u001b[0;32m~/anaconda3/envs/gairts/lib/python3.6/site-packages/keras/engine/training_arrays.py\u001b[0m in \u001b[0;36mtest_loop\u001b[0;34m(model, f, ins, batch_size, verbose, steps)\u001b[0m\n\u001b[1;32m    390\u001b[0m                 \u001b[0mins_batch\u001b[0m\u001b[0;34m[\u001b[0m\u001b[0mi\u001b[0m\u001b[0;34m]\u001b[0m \u001b[0;34m=\u001b[0m \u001b[0mins_batch\u001b[0m\u001b[0;34m[\u001b[0m\u001b[0mi\u001b[0m\u001b[0;34m]\u001b[0m\u001b[0;34m.\u001b[0m\u001b[0mtoarray\u001b[0m\u001b[0;34m(\u001b[0m\u001b[0;34m)\u001b[0m\u001b[0;34m\u001b[0m\u001b[0;34m\u001b[0m\u001b[0m\n\u001b[1;32m    391\u001b[0m \u001b[0;34m\u001b[0m\u001b[0m\n\u001b[0;32m--> 392\u001b[0;31m             \u001b[0mbatch_outs\u001b[0m \u001b[0;34m=\u001b[0m \u001b[0mf\u001b[0m\u001b[0;34m(\u001b[0m\u001b[0mins_batch\u001b[0m\u001b[0;34m)\u001b[0m\u001b[0;34m\u001b[0m\u001b[0;34m\u001b[0m\u001b[0m\n\u001b[0m\u001b[1;32m    393\u001b[0m             \u001b[0;32mif\u001b[0m \u001b[0misinstance\u001b[0m\u001b[0;34m(\u001b[0m\u001b[0mbatch_outs\u001b[0m\u001b[0;34m,\u001b[0m \u001b[0mlist\u001b[0m\u001b[0;34m)\u001b[0m\u001b[0;34m:\u001b[0m\u001b[0;34m\u001b[0m\u001b[0;34m\u001b[0m\u001b[0m\n\u001b[1;32m    394\u001b[0m                 \u001b[0;32mif\u001b[0m \u001b[0mbatch_index\u001b[0m \u001b[0;34m==\u001b[0m \u001b[0;36m0\u001b[0m\u001b[0;34m:\u001b[0m\u001b[0;34m\u001b[0m\u001b[0;34m\u001b[0m\u001b[0m\n",
      "\u001b[0;32m~/anaconda3/envs/gairts/lib/python3.6/site-packages/keras/backend/tensorflow_backend.py\u001b[0m in \u001b[0;36m__call__\u001b[0;34m(self, inputs)\u001b[0m\n\u001b[1;32m   2713\u001b[0m                 \u001b[0;32mreturn\u001b[0m \u001b[0mself\u001b[0m\u001b[0;34m.\u001b[0m\u001b[0m_legacy_call\u001b[0m\u001b[0;34m(\u001b[0m\u001b[0minputs\u001b[0m\u001b[0;34m)\u001b[0m\u001b[0;34m\u001b[0m\u001b[0;34m\u001b[0m\u001b[0m\n\u001b[1;32m   2714\u001b[0m \u001b[0;34m\u001b[0m\u001b[0m\n\u001b[0;32m-> 2715\u001b[0;31m             \u001b[0;32mreturn\u001b[0m \u001b[0mself\u001b[0m\u001b[0;34m.\u001b[0m\u001b[0m_call\u001b[0m\u001b[0;34m(\u001b[0m\u001b[0minputs\u001b[0m\u001b[0;34m)\u001b[0m\u001b[0;34m\u001b[0m\u001b[0;34m\u001b[0m\u001b[0m\n\u001b[0m\u001b[1;32m   2716\u001b[0m         \u001b[0;32melse\u001b[0m\u001b[0;34m:\u001b[0m\u001b[0;34m\u001b[0m\u001b[0;34m\u001b[0m\u001b[0m\n\u001b[1;32m   2717\u001b[0m             \u001b[0;32mif\u001b[0m \u001b[0mpy_any\u001b[0m\u001b[0;34m(\u001b[0m\u001b[0mis_tensor\u001b[0m\u001b[0;34m(\u001b[0m\u001b[0mx\u001b[0m\u001b[0;34m)\u001b[0m \u001b[0;32mfor\u001b[0m \u001b[0mx\u001b[0m \u001b[0;32min\u001b[0m \u001b[0minputs\u001b[0m\u001b[0;34m)\u001b[0m\u001b[0;34m:\u001b[0m\u001b[0;34m\u001b[0m\u001b[0;34m\u001b[0m\u001b[0m\n",
      "\u001b[0;32m~/anaconda3/envs/gairts/lib/python3.6/site-packages/keras/backend/tensorflow_backend.py\u001b[0m in \u001b[0;36m_call\u001b[0;34m(self, inputs)\u001b[0m\n\u001b[1;32m   2669\u001b[0m                                 \u001b[0mfeed_symbols\u001b[0m\u001b[0;34m,\u001b[0m\u001b[0;34m\u001b[0m\u001b[0;34m\u001b[0m\u001b[0m\n\u001b[1;32m   2670\u001b[0m                                 \u001b[0msymbol_vals\u001b[0m\u001b[0;34m,\u001b[0m\u001b[0;34m\u001b[0m\u001b[0;34m\u001b[0m\u001b[0m\n\u001b[0;32m-> 2671\u001b[0;31m                                 session)\n\u001b[0m\u001b[1;32m   2672\u001b[0m         \u001b[0;32mif\u001b[0m \u001b[0mself\u001b[0m\u001b[0;34m.\u001b[0m\u001b[0mrun_metadata\u001b[0m\u001b[0;34m:\u001b[0m\u001b[0;34m\u001b[0m\u001b[0;34m\u001b[0m\u001b[0m\n\u001b[1;32m   2673\u001b[0m             \u001b[0mfetched\u001b[0m \u001b[0;34m=\u001b[0m \u001b[0mself\u001b[0m\u001b[0;34m.\u001b[0m\u001b[0m_callable_fn\u001b[0m\u001b[0;34m(\u001b[0m\u001b[0;34m*\u001b[0m\u001b[0marray_vals\u001b[0m\u001b[0;34m,\u001b[0m \u001b[0mrun_metadata\u001b[0m\u001b[0;34m=\u001b[0m\u001b[0mself\u001b[0m\u001b[0;34m.\u001b[0m\u001b[0mrun_metadata\u001b[0m\u001b[0;34m)\u001b[0m\u001b[0;34m\u001b[0m\u001b[0;34m\u001b[0m\u001b[0m\n",
      "\u001b[0;32m~/anaconda3/envs/gairts/lib/python3.6/site-packages/keras/backend/tensorflow_backend.py\u001b[0m in \u001b[0;36m_make_callable\u001b[0;34m(self, feed_arrays, feed_symbols, symbol_vals, session)\u001b[0m\n\u001b[1;32m   2621\u001b[0m             \u001b[0mcallable_opts\u001b[0m\u001b[0;34m.\u001b[0m\u001b[0mrun_options\u001b[0m\u001b[0;34m.\u001b[0m\u001b[0mCopyFrom\u001b[0m\u001b[0;34m(\u001b[0m\u001b[0mself\u001b[0m\u001b[0;34m.\u001b[0m\u001b[0mrun_options\u001b[0m\u001b[0;34m)\u001b[0m\u001b[0;34m\u001b[0m\u001b[0;34m\u001b[0m\u001b[0m\n\u001b[1;32m   2622\u001b[0m         \u001b[0;31m# Create callable.\u001b[0m\u001b[0;34m\u001b[0m\u001b[0;34m\u001b[0m\u001b[0;34m\u001b[0m\u001b[0m\n\u001b[0;32m-> 2623\u001b[0;31m         \u001b[0mcallable_fn\u001b[0m \u001b[0;34m=\u001b[0m \u001b[0msession\u001b[0m\u001b[0;34m.\u001b[0m\u001b[0m_make_callable_from_options\u001b[0m\u001b[0;34m(\u001b[0m\u001b[0mcallable_opts\u001b[0m\u001b[0;34m)\u001b[0m\u001b[0;34m\u001b[0m\u001b[0;34m\u001b[0m\u001b[0m\n\u001b[0m\u001b[1;32m   2624\u001b[0m         \u001b[0;31m# Cache parameters corresponding to the generated callable, so that\u001b[0m\u001b[0;34m\u001b[0m\u001b[0;34m\u001b[0m\u001b[0;34m\u001b[0m\u001b[0m\n\u001b[1;32m   2625\u001b[0m         \u001b[0;31m# we can detect future mismatches and refresh the callable.\u001b[0m\u001b[0;34m\u001b[0m\u001b[0;34m\u001b[0m\u001b[0;34m\u001b[0m\u001b[0m\n",
      "\u001b[0;32m~/anaconda3/envs/gairts/lib/python3.6/site-packages/tensorflow/python/client/session.py\u001b[0m in \u001b[0;36m_make_callable_from_options\u001b[0;34m(self, callable_options)\u001b[0m\n\u001b[1;32m   1469\u001b[0m     \"\"\"\n\u001b[1;32m   1470\u001b[0m     \u001b[0mself\u001b[0m\u001b[0;34m.\u001b[0m\u001b[0m_extend_graph\u001b[0m\u001b[0;34m(\u001b[0m\u001b[0;34m)\u001b[0m\u001b[0;34m\u001b[0m\u001b[0;34m\u001b[0m\u001b[0m\n\u001b[0;32m-> 1471\u001b[0;31m     \u001b[0;32mreturn\u001b[0m \u001b[0mBaseSession\u001b[0m\u001b[0;34m.\u001b[0m\u001b[0m_Callable\u001b[0m\u001b[0;34m(\u001b[0m\u001b[0mself\u001b[0m\u001b[0;34m,\u001b[0m \u001b[0mcallable_options\u001b[0m\u001b[0;34m)\u001b[0m\u001b[0;34m\u001b[0m\u001b[0;34m\u001b[0m\u001b[0m\n\u001b[0m\u001b[1;32m   1472\u001b[0m \u001b[0;34m\u001b[0m\u001b[0m\n\u001b[1;32m   1473\u001b[0m \u001b[0;34m\u001b[0m\u001b[0m\n",
      "\u001b[0;32m~/anaconda3/envs/gairts/lib/python3.6/site-packages/tensorflow/python/client/session.py\u001b[0m in \u001b[0;36m__init__\u001b[0;34m(self, session, callable_options)\u001b[0m\n\u001b[1;32m   1423\u001b[0m         \u001b[0;32mwith\u001b[0m \u001b[0merrors\u001b[0m\u001b[0;34m.\u001b[0m\u001b[0mraise_exception_on_not_ok_status\u001b[0m\u001b[0;34m(\u001b[0m\u001b[0;34m)\u001b[0m \u001b[0;32mas\u001b[0m \u001b[0mstatus\u001b[0m\u001b[0;34m:\u001b[0m\u001b[0;34m\u001b[0m\u001b[0;34m\u001b[0m\u001b[0m\n\u001b[1;32m   1424\u001b[0m           self._handle = tf_session.TF_SessionMakeCallable(\n\u001b[0;32m-> 1425\u001b[0;31m               session._session, options_ptr, status)\n\u001b[0m\u001b[1;32m   1426\u001b[0m       \u001b[0;32mfinally\u001b[0m\u001b[0;34m:\u001b[0m\u001b[0;34m\u001b[0m\u001b[0;34m\u001b[0m\u001b[0m\n\u001b[1;32m   1427\u001b[0m         \u001b[0mtf_session\u001b[0m\u001b[0;34m.\u001b[0m\u001b[0mTF_DeleteBuffer\u001b[0m\u001b[0;34m(\u001b[0m\u001b[0moptions_ptr\u001b[0m\u001b[0;34m)\u001b[0m\u001b[0;34m\u001b[0m\u001b[0;34m\u001b[0m\u001b[0m\n",
      "\u001b[0;31mKeyboardInterrupt\u001b[0m: "
     ]
    }
   ],
   "source": [
    "kfold_id = 10000\n",
    "\n",
    "resumo = pd.DataFrame(columns=['kfold_id','cos_sim_mean','cos_sim_std','mse_mean','mse_std','training_time','batch_size','num_filters','size_filters','num_dense','dropout'])\n",
    "\n",
    "number_epochs = 30\n",
    "\n",
    "tokenizer_kfold = Tokenizer(num_words=MAX_VOCAB_SIZE, filters='', lower=False)\n",
    "tokenizer_kfold.fit_on_texts(df_train['new_title'])\n",
    "\n",
    "for emb_dim in [300, 200, 100, 50]:\n",
    "  \n",
    "  embeddings_index_kfold = load_embedding(emb_dim)\n",
    "  \n",
    "  for batch_size in [32, 64]:\n",
    "      for num_filters in [384, 256, 128]:\n",
    "          for size_filters in [4, 3, 2]:\n",
    "              for number_dense in [150, 100, 50]:\n",
    "                  for dropout_value in [0.3, 0.4, 0.5]:\n",
    "\n",
    "                    cvscores_mse = []\n",
    "                    cvscores_cos_sim = []\n",
    "                    time_list = []\n",
    "                    \n",
    "                    seed = 42\n",
    "                    np.random.seed(seed)\n",
    "                    \n",
    "                    for train, val in skf.split(df_train, df_train['quantile']):\n",
    "#                         print(train)\n",
    "                        X_train = df_train.iloc[train]\n",
    "                        X_val = df_train.iloc[val]\n",
    "    \n",
    "                        Y_train = df_train['sentiment'].iloc[train]\n",
    "                        Y_val = df_train['sentiment'].iloc[val]\n",
    "                \n",
    "                        # get sentences ready for usage\n",
    "                        sentences_train_pad, sentences_val_pad, tok_kfold = get_tok_sentences(X_train[\"new_title\"], X_val[\"new_title\"])\n",
    "                  \n",
    "                        embedding_matrix = get_embedding_matrix(emb_dim, MAX_VOCAB_SIZE, MAX_SEQUENCE_LENGTH, tok_kfold, embeddings_index_kfold)\n",
    "                        \n",
    "#                         nn_input_train = {'Word_Seq': sentences_train_pad, 'Lexical': np.array(X_train['mean_VADER_LMD'].tolist())}\n",
    "#                         nn_input_val = {'Word_Seq': sentences_val_pad, 'Lexical': np.array(X_val['mean_VADER_LMD'].tolist())}\n",
    "                        nn_input_train = {'Word_Seq': sentences_train_pad, 'Lexical': np.array(X_train['mean_VADER'].tolist())}\n",
    "                        nn_input_val = {'Word_Seq': sentences_val_pad, 'Lexical': np.array(X_val['mean_VADER'].tolist())}\n",
    "                      \n",
    "                        model_name = 'kfoldid_' + str(kfold_id) + '-dim_' + str(emb_dim) + '-bs_' + str(batch_size) + '-nf_' + str(num_filters) + '-sf_' + str(size_filters) + '-nd_' + str(number_dense) + '-dv_' + str(10*dropout_value)\n",
    "    \n",
    "                        cnn = create_model_2Conv_1Dense(num_filters, num_filters, size_filters, size_filters, number_dense, dropout_value, embedding_matrix, True)\n",
    "\n",
    "                        init = datetime.datetime.now()\n",
    "                        trained = train_model(cnn, nn_input_train, Y_train, batch_size, number_epochs, model_name, nn_input_val, Y_val)\n",
    "                        training_time = (datetime.datetime.now() - init)\n",
    "                        cvscores_mse.append(trained.history['val_loss'][-1])\n",
    "                        cvscores_cos_sim.append(-trained.history['val_cosine_proximity'][-1])\n",
    "                        time_list.append(training_time)\n",
    "                        # save_model(cnn, trained, model_name)\n",
    "                  \n",
    "                        if K.backend() == 'tensorflow':\n",
    "                          K.clear_session()\n",
    "\n",
    "                    result = [kfold_id, np.mean(cvscores_cos_sim), np.std(cvscores_cos_sim), np.mean(cvscores_mse), np.std(cvscores_mse), np.mean(time_list), batch_size, num_filters, size_filters,  number_dense, dropout_value]\n",
    "                    resumo = resumo.append(pd.Series(result, index=resumo.columns), ignore_index=True)\n",
    "\n",
    "                    print('ID: {}, Cos Sim Mean: {}, Cos Sim Std: {}, MSE Mean: {}, MSE Std: {}, Training Time: {}, Batch: {}, Num Filters: {}, Size Filters:{}, Num Dense: {}, Dropout: {}'.format(*result))\n",
    "                    \n",
    "                    kfold_id = kfold_id + 1"
   ]
  },
  {
   "cell_type": "code",
   "execution_count": 0,
   "metadata": {
    "colab": {},
    "colab_type": "code",
    "id": "2uxkO9P3wp8W"
   },
   "outputs": [],
   "source": [
    "melhores = resumo.sort_values('mse_mean', ascending=True)\n",
    "melhores"
   ]
  },
  {
   "cell_type": "code",
   "execution_count": 0,
   "metadata": {
    "colab": {},
    "colab_type": "code",
    "id": "HIS50lITwp8Y"
   },
   "outputs": [],
   "source": [
    "# melhores.to_csv(results_cnn + 'resumo/' + 'Resultados10.csv', sep='\\t', encoding='utf-8')"
   ]
  },
  {
   "cell_type": "code",
   "execution_count": 0,
   "metadata": {
    "colab": {},
    "colab_type": "code",
    "id": "MVYxJudlwp8a"
   },
   "outputs": [],
   "source": [
    "# seed = 42\n",
    "# np.random.seed(seed)\n",
    "\n",
    "# i = 1000\n",
    "# resumo = pd.DataFrame({'ID': 0, 'Batch Size': 0, 'Number Filters': 0, 'Size Filters': 0, 'Number Dense': 0, 'Dropout': 0.0, 'Score Mean': 0.0, 'Std': 0.0, 'Training Time': (datetime.datetime.now() - datetime.datetime.now())}, index=[0])\n",
    "\n",
    "# X = {'Word_Seq': sentences_seq_train, 'Lexical': np.array(df_train['mean_VADER'].tolist())}\n",
    "# Y = df_train['sentiment']\n",
    "\n",
    "# number_folds = 5\n",
    "\n",
    "# for batch_size in [64]:\n",
    "#     for num_filters in [256, 128, 64]:\n",
    "#         for size_filters in [2, 3, 4]:\n",
    "#             for number_dense in [150, 100, 50]:\n",
    "#                 for dropout_value in [0.4, 0.3]:\n",
    "                    \n",
    "#                     kfold = KFold(n_splits=number_folds)\n",
    "#                     cvscores = []\n",
    "#                     time = []\n",
    "                    \n",
    "#                     for train, valid in skf.split(df_train['Word_Seq'], df_train['quantile']):\n",
    "#                         model_name = str(i) + '-bs_' + str(batch_size) + '-nf_' + str(num_filters) + '-sf_' + str(size_filters) + '-nd_' + str(number_dense) + '-dv_' + str(10*dropout_value)\n",
    "#                         cnn = create_model_2Conv_1Dense(num_filters, num_filters, size_filters, size_filters, number_dense, dropout_value)\n",
    "\n",
    "#                         init = datetime.datetime.now()\n",
    "#                         trained = train_model(cnn, [X['Word_Seq'][train], X['Lexical'][train]], Y[train], batch_size, 25, model_name)\n",
    "#                         training_time = (datetime.datetime.now() - init)\n",
    "#                         performance = evaluate_model(cnn, [X['Word_Seq'][valid], X['Lexical'][valid]], Y[valid])\n",
    "#                         cvscores.append(performance)\n",
    "#                         time.append(training_time)\n",
    "\n",
    "#                     #save_model(cnn, trained, model_name)\n",
    "#                     result = pd.DataFrame({'ID': i, 'Batch Size': batch_size, 'Number Filters': num_filters, 'Size Filters': size_filters, 'Number Dense': number_dense, 'Dropout': dropout_value, 'Score Mean': np.mean(cvscores), 'Std': np.std(cvscores), 'Training Time': np.mean(time)}, index=[0])\n",
    "#                     resumo = resumo.append(result, ignore_index=True)\n",
    "\n",
    "#                     print('ID: ' + str(i) + ', Batch Size: ' + str(batch_size) + ', Number Filters: ' + str(num_filters) + ', Size Filters:' + str(size_filters) + ', Number Dense: ' + str(number_dense) + ', Dropout: ' + str(dropout_value) + ', Score Mean: ' + str(np.mean(cvscores)) + ', Std: ' + str(np.std(cvscores)) + ', Training Time: ' + str(np.mean(time)))\n",
    "\n",
    "#                     i = i + 1"
   ]
  },
  {
   "cell_type": "code",
   "execution_count": 0,
   "metadata": {
    "colab": {},
    "colab_type": "code",
    "id": "mOYAEG4dwp8c"
   },
   "outputs": [],
   "source": [
    "# melhores = resumo.sort_values('Score Mean', ascending=False)\n",
    "# melhores"
   ]
  },
  {
   "cell_type": "code",
   "execution_count": 0,
   "metadata": {
    "colab": {},
    "colab_type": "code",
    "id": "D3ubm-0ewp8e"
   },
   "outputs": [],
   "source": [
    "# melhores.to_csv('Resultados3.csv', sep='\\t', encoding='utf-8')"
   ]
  },
  {
   "cell_type": "markdown",
   "metadata": {
    "colab_type": "text",
    "id": "ICvVLbG2ET2e"
   },
   "source": [
    "### Results Processing"
   ]
  },
  {
   "cell_type": "code",
   "execution_count": 0,
   "metadata": {
    "colab": {},
    "colab_type": "code",
    "id": "qVQEWgXy9A9H"
   },
   "outputs": [],
   "source": [
    "# specifying results filepath dest file\n",
    "results_filepath = 'results/cnn/emb_vader-5-fold-v2.csv'"
   ]
  },
  {
   "cell_type": "code",
   "execution_count": 0,
   "metadata": {
    "colab": {},
    "colab_type": "code",
    "id": "4Mgz7mWaEXOI"
   },
   "outputs": [],
   "source": [
    "# this function goes through all csv results process and group them together\n",
    "def process_raw_data(results_filepath):\n",
    "  all_files = glob.glob(results_cnn + \"*.csv\")\n",
    "#   all_files = glob.glob(results_cnn + \"kfoldid_10000-dim_300-bs_32-nf_384-sf_4-nd_150-dv_3.0.csv\")\n",
    "\n",
    "  li = []\n",
    "  \n",
    "  for filename in all_files:\n",
    "    # 1) we process the filename which has info in itself\n",
    "    params_raw = filename.strip(results_cnn).strip('.csv').split('-')\n",
    "    \n",
    "    params_dict = dict()\n",
    "\n",
    "    for param in params_raw:\n",
    "      key, value = param.split('_')\n",
    "      if key == 'dv':\n",
    "        params_dict[key] = float(value) / 10 \n",
    "      else:\n",
    "        params_dict[key] = int(value)\n",
    "      \n",
    "    df_params = pd.DataFrame(params_dict, index=[0])\n",
    "    df_params.columns = ['kfold_id','emb_dim','batch_size','num_filters','size_filters','num_dense','dropout']\n",
    "\n",
    "    # 2) we process the content inside the file\n",
    "    df_results = pd.read_csv(filename, index_col=None, header=0, sep=';')\n",
    "    df_results = df_results.groupby(['epoch'], as_index=False).mean().join(df_results.groupby(['epoch']).std(), lsuffix='_mean', rsuffix='_std')\n",
    "    \n",
    "    # 2.1) Converting negative values to positives\n",
    "    df_results['cosine_proximity_mean'] = abs(df_results['cosine_proximity_mean'])\n",
    "    df_results['val_cosine_proximity_mean'] = abs(df_results['val_cosine_proximity_mean'])\n",
    "  \n",
    "    # 2.2) Defining row with best value\n",
    "    df_results['best_val_loss_mean'] = False\n",
    "    df_results['best_val_cosine_proximity_mean'] = False\n",
    "  \n",
    "    best_val_loss_mean = df_results['val_loss_mean'].min()\n",
    "    best_val_cosine_proximity_mean = df_results['val_cosine_proximity_mean'].max()\n",
    "  \n",
    "    df_results.loc[df_results['val_loss_mean'] == best_val_loss_mean, 'best_val_loss_mean'] = True\n",
    "    df_results.loc[df_results['val_cosine_proximity_mean'] == best_val_cosine_proximity_mean, 'best_val_cosine_proximity_mean'] = True\n",
    "\n",
    "    # 3) we join all info together\n",
    "    df_processed = df_params.join(df_results, how='right').ffill()\n",
    "    \n",
    "    # 4) changing some of the collumns to int\n",
    "    df_processed[['kfold_id','emb_dim','batch_size','num_filters','size_filters','num_dense']] = df_processed[['kfold_id','emb_dim','batch_size','num_filters','size_filters','num_dense']].astype('int64')\n",
    "    \n",
    "    li.append(df_processed)\n",
    "    \n",
    "  df_final = pd.concat(li, axis=0, ignore_index=True)\n",
    "  \n",
    "  df_final.to_csv(results_filepath, index=False, sep=',', encoding='utf-8')\n",
    "  \n",
    "process_raw_data(results_filepath)"
   ]
  },
  {
   "cell_type": "markdown",
   "metadata": {
    "colab_type": "text",
    "id": "S6T0i-OHwp8i"
   },
   "source": [
    "## Treinando em todo o conjunto de Treino e avaliando no conjunto de Teste"
   ]
  },
  {
   "cell_type": "code",
   "execution_count": 0,
   "metadata": {
    "colab": {},
    "colab_type": "code",
    "id": "uXYPn4A48h0R"
   },
   "outputs": [],
   "source": [
    "# selecting best models\n",
    "df_results = pd.read_csv(results_filepath)\n",
    "\n",
    "best_mse_model = df_results[df_results['best_val_loss_mean'] == True].sort_values(by=['val_loss_mean']).iloc[0]\n",
    "best_cos_model = df_results[df_results['best_val_cosine_proximity_mean'] == True].sort_values(by=['val_cosine_proximity_mean'], ascending=[False]).iloc[0]\n",
    "\n",
    "# best_cos_model[['emb_dim', 'num_filters', 'size_filters', 'num_dense', 'dropout', 'epoch', 'batch_size']]\n",
    "best_mse_model"
   ]
  },
  {
   "cell_type": "code",
   "execution_count": 0,
   "metadata": {
    "colab": {},
    "colab_type": "code",
    "id": "fsY1wB0xwp8i"
   },
   "outputs": [],
   "source": [
    "def run_final_test(best_model_config, eval_type):\n",
    "\n",
    "  # fix random seed for reproducibility\n",
    "  seed = 42\n",
    "  np.random.seed(seed)\n",
    "\n",
    "  emb_dim, num_filters, size_filters, num_dense, dropout, epoch, batch_size = best_model_config[['emb_dim', 'num_filters', 'size_filters', 'num_dense', 'dropout', 'epoch', 'batch_size']]\n",
    "\n",
    "  embeddings_index_final = load_embedding(emb_dim)\n",
    "\n",
    "  sentences_train_final_pad, sentences_test_final_pad, tok_final = get_tok_sentences(df_train[\"new_title\"], df_test[\"new_title\"])\n",
    "\n",
    "  # X = {'Word_Seq': sentences_train_final_pad, 'Lexical': np.array(df_train['mean_VADER_LMD'].tolist())}\n",
    "  X = {'Word_Seq': sentences_train_final_pad, 'Lexical': np.array(df_train['mean_VADER'].tolist())}\n",
    "  # X = {'Word_Seq': sentences_train_final_pad}\n",
    "  Y = df_train['sentiment']\n",
    "\n",
    "  embedding_matrix = get_embedding_matrix(emb_dim, MAX_VOCAB_SIZE, MAX_SEQUENCE_LENGTH, tok_final, embeddings_index_final)\n",
    "\n",
    "  # cnn = create_model_2Conv_1Dense(256, 256, 2, 2, 150, 0.4, embedding_matrix, True)\n",
    "  # cnn = create_model_2Conv_1Dense(128, 128, 3, 3, 50, 0.5, embedding_matrix, True)\n",
    "#   cnn = create_model_2Conv_1Dense(384, 384, 3, 3, 150, 0.3, embedding_matrix, True)\n",
    "  cnn = create_model_2Conv_1Dense(num_filters, num_filters, int(size_filters), int(size_filters), num_dense, dropout, embedding_matrix, True)\n",
    "  trained = train_model(cnn, X, Y, batch_size, epoch, 'main_data_test', X, Y)\n",
    "#   trained = train_model(cnn, X, Y, 32, 15, 'main_data_test', X, Y)\n",
    "  # cnn = True\n",
    "  # trained =  True\n",
    "  \n",
    "  \n",
    "  # X_test = {'Word_Seq': sentences_seq_test, 'Lexical': np.array(df_test['mean_VADER_LMD'].tolist())}\n",
    "  X_test = {'Word_Seq': sentences_test_final_pad, 'Lexical': np.array(df_test['mean_VADER'].tolist())}\n",
    "  # X_test = {'Word_Seq': sentences_seq_test}\n",
    "\n",
    "  if eval_type == 'cos_sim':\n",
    "    y_pred = cnn.predict(X_test)\n",
    "    return cosine_similarity(y_pred.reshape(1, -1), df_test['sentiment'].values.reshape(1, -1))\n",
    "  else:\n",
    "    return cnn.evaluate(X_test, df_test['sentiment'])"
   ]
  },
  {
   "cell_type": "code",
   "execution_count": 0,
   "metadata": {
    "colab": {},
    "colab_type": "code",
    "id": "7yTRTULqwp8p"
   },
   "outputs": [],
   "source": [
    "final_mse_score = run_final_test(best_mse_model, 'mse')\n",
    "# final_cos_score = run_final_test(best_mse_model, 'cos_sim')\n",
    "\n",
    "print(final_mse_score)\n",
    "# print('Cos_sim: {}'.format(final_cos_score))"
   ]
  },
  {
   "cell_type": "code",
   "execution_count": 0,
   "metadata": {
    "colab": {},
    "colab_type": "code",
    "id": "CINnCjXTwp8k"
   },
   "outputs": [],
   "source": [
    "input = X\n",
    "output = np.array(cnn.predict(input))\n",
    "expected = np.array(Y)"
   ]
  },
  {
   "cell_type": "code",
   "execution_count": 0,
   "metadata": {
    "colab": {},
    "colab_type": "code",
    "id": "mzSDVSCywp8m"
   },
   "outputs": [],
   "source": [
    "# plt.figure(1)\n",
    "# plt.plot(output[0:50])\n",
    "# plt.plot(expected[0:50])\n",
    "# plt.title('Performance')\n",
    "# plt.ylabel('Y')\n",
    "# plt.xlabel('X')\n",
    "# plt.legend(['predicted', 'expected'], loc='upper left')\n",
    "# plt.savefig(results_cnn + 'avaliacao_performance.png')\n",
    "# plt.close()"
   ]
  }
 ],
 "metadata": {
  "accelerator": "GPU",
  "colab": {
   "collapsed_sections": [],
   "name": "[Oficial] CNN Emb Vader.ipynb",
   "provenance": [],
   "version": "0.3.2"
  },
  "kernelspec": {
   "display_name": "Python 3",
   "language": "python",
   "name": "python3"
  },
  "language_info": {
   "codemirror_mode": {
    "name": "ipython",
    "version": 3
   },
   "file_extension": ".py",
   "mimetype": "text/x-python",
   "name": "python",
   "nbconvert_exporter": "python",
   "pygments_lexer": "ipython3",
   "version": "3.6.8"
  }
 },
 "nbformat": 4,
 "nbformat_minor": 1
}
